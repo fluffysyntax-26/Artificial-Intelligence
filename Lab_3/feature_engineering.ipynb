{
 "cells": [
  {
   "cell_type": "markdown",
   "id": "198accd9",
   "metadata": {},
   "source": [
    "# Feature Engineering"
   ]
  },
  {
   "cell_type": "code",
   "execution_count": 135,
   "id": "ccf61599",
   "metadata": {},
   "outputs": [],
   "source": [
    "import random\n",
    "import numpy as np\n",
    "import pandas as pd \n",
    "import seaborn as sns\n",
    "import matplotlib.pyplot as plt\n",
    "from sklearn.utils import resample\n",
    "from sklearn.datasets import make_classification\n",
    "from imblearn.over_sampling import SMOTE"
   ]
  },
  {
   "cell_type": "code",
   "execution_count": null,
   "id": "eec797e6",
   "metadata": {},
   "outputs": [],
   "source": [
    "df = sns.load_dataset('titanic')\n",
    "df"
   ]
  },
  {
   "cell_type": "code",
   "execution_count": null,
   "id": "1dfbc52e",
   "metadata": {},
   "outputs": [],
   "source": [
    "df.isna().sum().plot(kind=\"bar\")"
   ]
  },
  {
   "cell_type": "markdown",
   "id": "30903c92",
   "metadata": {},
   "source": [
    "# Handling missing values\n",
    "\n",
    "### Drop rows and columns"
   ]
  },
  {
   "cell_type": "code",
   "execution_count": null,
   "id": "d63d3ce3",
   "metadata": {},
   "outputs": [],
   "source": [
    "df.shape"
   ]
  },
  {
   "cell_type": "code",
   "execution_count": null,
   "id": "3c4d8b6c",
   "metadata": {},
   "outputs": [],
   "source": [
    "# delete the rows or data point to handle missing values\n",
    "\n",
    "copydf = df.copy()\n",
    "copydf.dropna().shape"
   ]
  },
  {
   "cell_type": "code",
   "execution_count": null,
   "id": "f6b14184",
   "metadata": {},
   "outputs": [],
   "source": [
    "# drop the values column wise\n",
    "copydf.dropna(axis=1).shape"
   ]
  },
  {
   "cell_type": "markdown",
   "id": "d24b027a",
   "metadata": {},
   "source": [
    "## Imputation Techniques\n",
    "\n",
    "### Replace with mean"
   ]
  },
  {
   "cell_type": "code",
   "execution_count": null,
   "id": "6882b3b7",
   "metadata": {},
   "outputs": [],
   "source": [
    "# visualise the distribution of age\n",
    "sns.histplot(df['age'], kde=True)"
   ]
  },
  {
   "cell_type": "code",
   "execution_count": null,
   "id": "b74e0d84",
   "metadata": {},
   "outputs": [],
   "source": [
    "df['age_mean'] = df['age'].fillna(df['age'].mean())\n",
    "df[['age_mean', \"age\"]]\n",
    "\n",
    "'''\n",
    "Mean imputation works well with normally distributed data\n",
    "'''"
   ]
  },
  {
   "cell_type": "code",
   "execution_count": null,
   "id": "cfb055a7",
   "metadata": {},
   "outputs": [],
   "source": [
    "# Median value imputation\n",
    "df['age_median'] = df['age'].fillna(df['age'].median())\n",
    "df[['age_median', 'age']]\n",
    "\n",
    "'''  \n",
    "Median Imputation works well with categorical values\n",
    "'''"
   ]
  },
  {
   "cell_type": "code",
   "execution_count": null,
   "id": "45574110",
   "metadata": {},
   "outputs": [],
   "source": [
    "# Mode imputation - works well with Categorical values\n",
    "\n",
    "# embarked is column which is categorical and has missing values\n",
    "df[df['embarked'].isnull()] # missing data completely at random (MCAR)"
   ]
  },
  {
   "cell_type": "code",
   "execution_count": null,
   "id": "340329b4",
   "metadata": {},
   "outputs": [],
   "source": [
    "# check for the types and unique values in the embarked column\n",
    "df['embarked'].unique()"
   ]
  },
  {
   "cell_type": "code",
   "execution_count": null,
   "id": "383433d0",
   "metadata": {},
   "outputs": [],
   "source": [
    "# fetch the mode of the column\n",
    "mode_value = df[df['embarked'].notna()]['embarked'].mode()[0]"
   ]
  },
  {
   "cell_type": "code",
   "execution_count": null,
   "id": "80ad093d",
   "metadata": {},
   "outputs": [],
   "source": [
    "# replace the missing values with mode\n",
    "df['embarked_mode'] = df['embarked'].fillna(mode_value)"
   ]
  },
  {
   "cell_type": "code",
   "execution_count": null,
   "id": "c807d3a6",
   "metadata": {},
   "outputs": [],
   "source": [
    "# display the embarked mode and embarked\n",
    "df[['embarked_mode', 'embarked']]"
   ]
  },
  {
   "cell_type": "code",
   "execution_count": null,
   "id": "cd785dd5",
   "metadata": {},
   "outputs": [],
   "source": [
    "# random sampling -- try out yourself"
   ]
  },
  {
   "cell_type": "markdown",
   "id": "b92baaad",
   "metadata": {},
   "source": [
    "# Handling Imbalanced dataset\n",
    "1. Upsampling \n",
    "2. Downsampling"
   ]
  },
  {
   "cell_type": "code",
   "execution_count": null,
   "id": "c3ec60e1",
   "metadata": {},
   "outputs": [],
   "source": [
    "# Create a dataframe of two classes with biased data points \n",
    "\n",
    "# set a seed for reproducibility (random values won't change with each run)\n",
    "np.random.seed(123)\n",
    "\n",
    "# create a dataframe with two classes\n",
    "n_samples = 1000\n",
    "class_zero_ratio = 0.9 # 90%\n",
    "n_class_zero = int(n_samples * class_zero_ratio)\n",
    "n_class_one = n_samples - n_class_zero\n",
    "\n",
    "n_class_zero, n_class_one"
   ]
  },
  {
   "cell_type": "code",
   "execution_count": null,
   "id": "270ac2d8",
   "metadata": {},
   "outputs": [],
   "source": [
    "# Subsitute values and create a normal distribution in a dataframe\n",
    "\n",
    "class_zero = pd.DataFrame({\n",
    "    'feature1': np.random.normal(loc=0, scale=1, size=n_class_zero),\n",
    "    'feature2': np.random.normal(loc=0, scale=1, size=n_class_zero),\n",
    "    'target':[0] * n_class_zero \n",
    "})\n",
    "\n",
    "class_one = pd.DataFrame({\n",
    "    'feature1': np.random.normal(loc=0, scale=1, size=n_class_one),\n",
    "    'feature2': np.random.normal(loc=0, scale=1, size=n_class_one),\n",
    "    'target':[1] * n_class_one \n",
    "})"
   ]
  },
  {
   "cell_type": "code",
   "execution_count": null,
   "id": "b04755a9",
   "metadata": {},
   "outputs": [],
   "source": [
    "df = pd.concat([class_zero, class_one]).reset_index(drop=True)\n",
    "df.head()"
   ]
  },
  {
   "cell_type": "code",
   "execution_count": null,
   "id": "14685cc3",
   "metadata": {},
   "outputs": [],
   "source": [
    "df.tail()"
   ]
  },
  {
   "cell_type": "code",
   "execution_count": null,
   "id": "b6b1bd11",
   "metadata": {},
   "outputs": [],
   "source": [
    "df['target'].value_counts()"
   ]
  },
  {
   "cell_type": "code",
   "execution_count": null,
   "id": "c48c6cbc",
   "metadata": {},
   "outputs": [],
   "source": [
    "df_minority = df[df['target'] == 1]\n",
    "df_majority = df[df['target'] == 0]\n",
    "\n",
    "df_minority.shape"
   ]
  },
  {
   "cell_type": "code",
   "execution_count": null,
   "id": "cfed1ec0",
   "metadata": {},
   "outputs": [],
   "source": [
    "# resample extrapolates the points, it creates new points with minority and \n",
    "# try to utilise with the majority\n",
    "\n",
    "# first parameter - sample to be umsampled, second parameter replace - \n",
    "df_minority_upsampled = resample(df_minority, replace=True, \n",
    "         n_samples = len(df_majority), random_state= 42) # sample with replacement\n",
    "\n",
    "\n",
    "# minority is now upsampled \n",
    "df_minority_upsampled.shape\n"
   ]
  },
  {
   "cell_type": "code",
   "execution_count": null,
   "id": "643158a8",
   "metadata": {},
   "outputs": [],
   "source": [
    "df_upsampled = pd.concat([df_majority, df_minority_upsampled])\n",
    "df_upsampled['target'].value_counts()"
   ]
  },
  {
   "cell_type": "markdown",
   "id": "dc7f9425",
   "metadata": {},
   "source": [
    "Downsampling"
   ]
  },
  {
   "cell_type": "code",
   "execution_count": null,
   "id": "6b6e553c",
   "metadata": {},
   "outputs": [],
   "source": [
    "# Create another dataset to demonstrate downsampling\n",
    "\n",
    "np.random.seed(123)\n",
    "\n",
    "n_samples = 1000\n",
    "class_zero_ratio = 0.9 # 90%\n",
    "n_class_zero = int(n_samples * class_zero_ratio)\n",
    "n_class_one = n_samples - n_class_zero\n",
    "\n",
    "n_class_zero, n_class_one\n",
    "\n",
    "class_zero = pd.DataFrame({\n",
    "    'feature1': np.random.normal(loc=0, scale=1, size=n_class_zero),\n",
    "    'feature2': np.random.normal(loc=0, scale=1, size=n_class_zero),\n",
    "    'target':[0] * n_class_zero \n",
    "})\n",
    "\n",
    "class_one = pd.DataFrame({\n",
    "    'feature1': np.random.normal(loc=0, scale=1, size=n_class_one),\n",
    "    'feature2': np.random.normal(loc=0, scale=1, size=n_class_one),\n",
    "    'target':[1] * n_class_one \n",
    "})\n",
    "\n",
    "df = pd.concat([class_zero, class_one]).reset_index(drop=True)\n",
    "\n",
    "df_minority = df[df['target'] == 1]\n",
    "df_majority = df[df['target'] == 0]"
   ]
  },
  {
   "cell_type": "code",
   "execution_count": null,
   "id": "3f64d74a",
   "metadata": {},
   "outputs": [],
   "source": [
    "# Downsampling the majority\n",
    "\n",
    "df_majority_downsampled = resample(df_majority, replace=False, \n",
    "         n_samples = len(df_minority), random_state= 42)\n",
    "\n",
    "df_majority_downsampled.shape"
   ]
  },
  {
   "cell_type": "code",
   "execution_count": null,
   "id": "6c626f08",
   "metadata": {},
   "outputs": [],
   "source": [
    "# concat the dataframes and see the results\n",
    "\n",
    "df_downsampled = pd.concat([df_minority, df_majority_downsampled])\n",
    "df_downsampled['target'].value_counts()"
   ]
  },
  {
   "cell_type": "markdown",
   "id": "cbf1d2c7",
   "metadata": {},
   "source": [
    "## SMOTE (Synthetic Minority Over-Sampling Technique)\n",
    "\n",
    "popular method for handling imbalanced datasets. It works by generating new, synthetic samples for the minority class, rather than duplicating existing ones. This is achieved by creating new data points at random locations along the line segments between a minority sample and its neighbors. The technique helps prevent overfitting and creates a more robust training set for the minority class, which leads to improved model performance."
   ]
  },
  {
   "cell_type": "code",
   "execution_count": 126,
   "id": "ef200bc8",
   "metadata": {},
   "outputs": [],
   "source": [
    "# create a dataset from sklearn in-built function\n",
    "X, y = make_classification(n_samples=1000, n_redundant=0, n_features=2, n_clusters_per_class=1, \n",
    "                    weights=[0.90], random_state=12)\n"
   ]
  },
  {
   "cell_type": "code",
   "execution_count": 127,
   "id": "c6dbe0fa",
   "metadata": {},
   "outputs": [
    {
     "data": {
      "application/vnd.microsoft.datawrangler.viewer.v0+json": {
       "columns": [
        {
         "name": "index",
         "rawType": "int64",
         "type": "integer"
        },
        {
         "name": "f1",
         "rawType": "float64",
         "type": "float"
        },
        {
         "name": "f2",
         "rawType": "float64",
         "type": "float"
        },
        {
         "name": "targets",
         "rawType": "int64",
         "type": "integer"
        }
       ],
       "ref": "dc63b8f8-e3e4-4a81-9f0c-028c402eb173",
       "rows": [
        [
         "0",
         "-0.7628975877269425",
         "-0.7068080676993844",
         "0"
        ],
        [
         "1",
         "-1.0754357077913148",
         "-1.0511621024238484",
         "0"
        ],
        [
         "2",
         "-0.6101145893578823",
         "-0.9098015729910123",
         "0"
        ],
        [
         "3",
         "-2.02328392122917",
         "-0.4289447199017409",
         "1"
        ],
        [
         "4",
         "-0.8129210479182211",
         "-1.3162056275403429",
         "0"
        ],
        [
         "5",
         "-1.4210565289121548",
         "-1.1734263885821206",
         "0"
        ],
        [
         "6",
         "-1.1200230324050757",
         "-0.7640001164086107",
         "0"
        ],
        [
         "7",
         "-1.6692886070550597",
         "-2.009059601045739",
         "0"
        ],
        [
         "8",
         "-1.7757771963746827",
         "-1.8001677834755352",
         "0"
        ],
        [
         "9",
         "-0.8632662471778699",
         "0.016043021446836336",
         "0"
        ],
        [
         "10",
         "-1.563850877851739",
         "-0.19154271830223857",
         "0"
        ],
        [
         "11",
         "-1.070510589612055",
         "-1.2847260739534492",
         "0"
        ],
        [
         "12",
         "-1.1413343959280784",
         "-1.562068162446713",
         "0"
        ],
        [
         "13",
         "-1.9826813785640298",
         "-1.6988936644011037",
         "0"
        ],
        [
         "14",
         "-1.467769443986793",
         "-0.9973160618157373",
         "0"
        ],
        [
         "15",
         "-0.9544193191640772",
         "-0.4611646316318706",
         "0"
        ],
        [
         "16",
         "-0.679623193113676",
         "-0.856088794689061",
         "0"
        ],
        [
         "17",
         "-1.800032751522977",
         "-1.7278061777575315",
         "0"
        ],
        [
         "18",
         "-1.7972348049800368",
         "-2.307282161834923",
         "0"
        ],
        [
         "19",
         "-1.3640443273716156",
         "1.0445362645337302",
         "1"
        ],
        [
         "20",
         "-0.6385056945354302",
         "-0.5423934457573678",
         "0"
        ],
        [
         "21",
         "-1.3875312155607333",
         "-1.2792174231840117",
         "0"
        ],
        [
         "22",
         "-0.301026400995812",
         "0.09735336026017327",
         "0"
        ],
        [
         "23",
         "-1.6748252603464542",
         "-2.695364999691906",
         "0"
        ],
        [
         "24",
         "-0.45038246850130137",
         "-0.23385036587990538",
         "0"
        ],
        [
         "25",
         "-0.23981099932125471",
         "0.2494598047926675",
         "0"
        ],
        [
         "26",
         "-0.46873232053867797",
         "0.11724239352081656",
         "1"
        ],
        [
         "27",
         "-1.4746146192386442",
         "-0.7920837095821037",
         "0"
        ],
        [
         "28",
         "-0.6020247189503729",
         "-0.9777230029401008",
         "0"
        ],
        [
         "29",
         "0.6228338557509538",
         "1.4206949242295983",
         "0"
        ],
        [
         "30",
         "-1.5822537050243812",
         "-1.6782512298878909",
         "0"
        ],
        [
         "31",
         "-0.6511984895759864",
         "-0.5183448123755847",
         "0"
        ],
        [
         "32",
         "-2.263611564794172",
         "-1.95836011018493",
         "0"
        ],
        [
         "33",
         "-1.3128837095681425",
         "-0.817248061771108",
         "0"
        ],
        [
         "34",
         "0.1944712698064528",
         "2.5997205057333543",
         "1"
        ],
        [
         "35",
         "-1.152921387991757",
         "-1.7548850818201585",
         "0"
        ],
        [
         "36",
         "-1.9107998330571805",
         "-1.927793661003583",
         "0"
        ],
        [
         "37",
         "-1.4815431889458799",
         "-1.2796447370099349",
         "0"
        ],
        [
         "38",
         "-1.4738789387330535",
         "-1.3882744948562042",
         "0"
        ],
        [
         "39",
         "-1.224170178418405",
         "0.097356514481165",
         "1"
        ],
        [
         "40",
         "-1.1216399328211029",
         "-1.588587924755473",
         "0"
        ],
        [
         "41",
         "-1.0383682032618935",
         "-1.5091248009411473",
         "0"
        ],
        [
         "42",
         "-0.7373600327637372",
         "-0.41709126918192474",
         "0"
        ],
        [
         "43",
         "-0.7573164134323096",
         "-0.13149387828845616",
         "0"
        ],
        [
         "44",
         "-0.8409279416297284",
         "-0.0068815684890334294",
         "0"
        ],
        [
         "45",
         "-1.0365747872409345",
         "-0.8190068954358967",
         "0"
        ],
        [
         "46",
         "-0.5725644235663707",
         "-0.016101070995590883",
         "0"
        ],
        [
         "47",
         "-0.960188857258053",
         "-0.8848138773372317",
         "0"
        ],
        [
         "48",
         "-1.1451989163872258",
         "-0.6263463795954588",
         "0"
        ],
        [
         "49",
         "-0.488528737089729",
         "-0.01449550313306247",
         "0"
        ]
       ],
       "shape": {
        "columns": 3,
        "rows": 1000
       }
      },
      "text/html": [
       "<div>\n",
       "<style scoped>\n",
       "    .dataframe tbody tr th:only-of-type {\n",
       "        vertical-align: middle;\n",
       "    }\n",
       "\n",
       "    .dataframe tbody tr th {\n",
       "        vertical-align: top;\n",
       "    }\n",
       "\n",
       "    .dataframe thead th {\n",
       "        text-align: right;\n",
       "    }\n",
       "</style>\n",
       "<table border=\"1\" class=\"dataframe\">\n",
       "  <thead>\n",
       "    <tr style=\"text-align: right;\">\n",
       "      <th></th>\n",
       "      <th>f1</th>\n",
       "      <th>f2</th>\n",
       "      <th>targets</th>\n",
       "    </tr>\n",
       "  </thead>\n",
       "  <tbody>\n",
       "    <tr>\n",
       "      <th>0</th>\n",
       "      <td>-0.762898</td>\n",
       "      <td>-0.706808</td>\n",
       "      <td>0</td>\n",
       "    </tr>\n",
       "    <tr>\n",
       "      <th>1</th>\n",
       "      <td>-1.075436</td>\n",
       "      <td>-1.051162</td>\n",
       "      <td>0</td>\n",
       "    </tr>\n",
       "    <tr>\n",
       "      <th>2</th>\n",
       "      <td>-0.610115</td>\n",
       "      <td>-0.909802</td>\n",
       "      <td>0</td>\n",
       "    </tr>\n",
       "    <tr>\n",
       "      <th>3</th>\n",
       "      <td>-2.023284</td>\n",
       "      <td>-0.428945</td>\n",
       "      <td>1</td>\n",
       "    </tr>\n",
       "    <tr>\n",
       "      <th>4</th>\n",
       "      <td>-0.812921</td>\n",
       "      <td>-1.316206</td>\n",
       "      <td>0</td>\n",
       "    </tr>\n",
       "    <tr>\n",
       "      <th>...</th>\n",
       "      <td>...</td>\n",
       "      <td>...</td>\n",
       "      <td>...</td>\n",
       "    </tr>\n",
       "    <tr>\n",
       "      <th>995</th>\n",
       "      <td>-0.712495</td>\n",
       "      <td>-0.880452</td>\n",
       "      <td>0</td>\n",
       "    </tr>\n",
       "    <tr>\n",
       "      <th>996</th>\n",
       "      <td>-2.625830</td>\n",
       "      <td>-2.827891</td>\n",
       "      <td>0</td>\n",
       "    </tr>\n",
       "    <tr>\n",
       "      <th>997</th>\n",
       "      <td>-1.326439</td>\n",
       "      <td>-1.815178</td>\n",
       "      <td>0</td>\n",
       "    </tr>\n",
       "    <tr>\n",
       "      <th>998</th>\n",
       "      <td>-0.833486</td>\n",
       "      <td>-0.514647</td>\n",
       "      <td>0</td>\n",
       "    </tr>\n",
       "    <tr>\n",
       "      <th>999</th>\n",
       "      <td>-0.302876</td>\n",
       "      <td>-0.575975</td>\n",
       "      <td>0</td>\n",
       "    </tr>\n",
       "  </tbody>\n",
       "</table>\n",
       "<p>1000 rows × 3 columns</p>\n",
       "</div>"
      ],
      "text/plain": [
       "           f1        f2  targets\n",
       "0   -0.762898 -0.706808        0\n",
       "1   -1.075436 -1.051162        0\n",
       "2   -0.610115 -0.909802        0\n",
       "3   -2.023284 -0.428945        1\n",
       "4   -0.812921 -1.316206        0\n",
       "..        ...       ...      ...\n",
       "995 -0.712495 -0.880452        0\n",
       "996 -2.625830 -2.827891        0\n",
       "997 -1.326439 -1.815178        0\n",
       "998 -0.833486 -0.514647        0\n",
       "999 -0.302876 -0.575975        0\n",
       "\n",
       "[1000 rows x 3 columns]"
      ]
     },
     "execution_count": 127,
     "metadata": {},
     "output_type": "execute_result"
    }
   ],
   "source": [
    "# create two data frames, one for the features and other for the target\n",
    "df1 = pd.DataFrame(X, columns = ['f1', 'f2'])\n",
    "df2= pd.DataFrame(y, columns = ['targets'])\n",
    "\n",
    "# merge features and target\n",
    "df = pd.concat([df1, df2], axis=1)\n",
    "df"
   ]
  },
  {
   "cell_type": "code",
   "execution_count": 128,
   "id": "2967540c",
   "metadata": {},
   "outputs": [
    {
     "data": {
      "application/vnd.microsoft.datawrangler.viewer.v0+json": {
       "columns": [
        {
         "name": "targets",
         "rawType": "int64",
         "type": "integer"
        },
        {
         "name": "count",
         "rawType": "int64",
         "type": "integer"
        }
       ],
       "ref": "26fc5741-2802-4068-8676-6c9271f193a5",
       "rows": [
        [
         "0",
         "900"
        ],
        [
         "1",
         "100"
        ]
       ],
       "shape": {
        "columns": 1,
        "rows": 2
       }
      },
      "text/plain": [
       "targets\n",
       "0    900\n",
       "1    100\n",
       "Name: count, dtype: int64"
      ]
     },
     "execution_count": 128,
     "metadata": {},
     "output_type": "execute_result"
    }
   ],
   "source": [
    "# unique value counts\n",
    "df['targets'].value_counts()"
   ]
  },
  {
   "cell_type": "code",
   "execution_count": 129,
   "id": "43015724",
   "metadata": {},
   "outputs": [
    {
     "data": {
      "text/plain": [
       "<matplotlib.collections.PathCollection at 0x70a5238c3d90>"
      ]
     },
     "execution_count": 129,
     "metadata": {},
     "output_type": "execute_result"
    },
    {
     "data": {
      "image/png": "[encoded data removed]",
      "text/plain": [
       "<Figure size 640x480 with 1 Axes>"
      ]
     },
     "metadata": {},
     "output_type": "display_data"
    }
   ],
   "source": [
    "# plot it on a scatter plot\n",
    "plt.scatter(df['f1'], df['f2'], c=df['targets'])"
   ]
  },
  {
   "cell_type": "code",
   "execution_count": 130,
   "id": "b338d5cb",
   "metadata": {},
   "outputs": [],
   "source": [
    "# oversampling via smote\n",
    "oversample = SMOTE()\n",
    "X,y = oversample.fit_resample(df[['f1','f2']], df['targets'])"
   ]
  },
  {
   "cell_type": "code",
   "execution_count": 131,
   "id": "aa6f4d4c",
   "metadata": {},
   "outputs": [
    {
     "data": {
      "text/plain": [
       "((1800, 2), (1800,))"
      ]
     },
     "execution_count": 131,
     "metadata": {},
     "output_type": "execute_result"
    }
   ],
   "source": [
    "X.shape, y.shape"
   ]
  },
  {
   "cell_type": "code",
   "execution_count": 132,
   "id": "e008b2fc",
   "metadata": {},
   "outputs": [
    {
     "data": {
      "text/plain": [
       "(900, 900)"
      ]
     },
     "execution_count": 132,
     "metadata": {},
     "output_type": "execute_result"
    }
   ],
   "source": [
    "len(y[y==0]), len(y[y==1]) # 900 each, you can verify using the len function"
   ]
  },
  {
   "cell_type": "code",
   "execution_count": 133,
   "id": "b9970602",
   "metadata": {},
   "outputs": [
    {
     "data": {
      "application/vnd.microsoft.datawrangler.viewer.v0+json": {
       "columns": [
        {
         "name": "index",
         "rawType": "int64",
         "type": "integer"
        },
        {
         "name": "f1",
         "rawType": "float64",
         "type": "float"
        },
        {
         "name": "f2",
         "rawType": "float64",
         "type": "float"
        },
        {
         "name": "targets",
         "rawType": "int64",
         "type": "integer"
        }
       ],
       "ref": "5f68b09e-1291-4d8f-9b1a-1d843ad51e1c",
       "rows": [
        [
         "0",
         "-0.7628975877269425",
         "-0.7068080676993844",
         "0"
        ],
        [
         "1",
         "-1.0754357077913148",
         "-1.0511621024238484",
         "0"
        ],
        [
         "2",
         "-0.6101145893578823",
         "-0.9098015729910123",
         "0"
        ],
        [
         "3",
         "-2.02328392122917",
         "-0.4289447199017409",
         "1"
        ],
        [
         "4",
         "-0.8129210479182211",
         "-1.3162056275403429",
         "0"
        ],
        [
         "5",
         "-1.4210565289121548",
         "-1.1734263885821206",
         "0"
        ],
        [
         "6",
         "-1.1200230324050757",
         "-0.7640001164086107",
         "0"
        ],
        [
         "7",
         "-1.6692886070550597",
         "-2.009059601045739",
         "0"
        ],
        [
         "8",
         "-1.7757771963746827",
         "-1.8001677834755352",
         "0"
        ],
        [
         "9",
         "-0.8632662471778699",
         "0.016043021446836336",
         "0"
        ],
        [
         "10",
         "-1.563850877851739",
         "-0.19154271830223857",
         "0"
        ],
        [
         "11",
         "-1.070510589612055",
         "-1.2847260739534492",
         "0"
        ],
        [
         "12",
         "-1.1413343959280784",
         "-1.562068162446713",
         "0"
        ],
        [
         "13",
         "-1.9826813785640298",
         "-1.6988936644011037",
         "0"
        ],
        [
         "14",
         "-1.467769443986793",
         "-0.9973160618157373",
         "0"
        ],
        [
         "15",
         "-0.9544193191640772",
         "-0.4611646316318706",
         "0"
        ],
        [
         "16",
         "-0.679623193113676",
         "-0.856088794689061",
         "0"
        ],
        [
         "17",
         "-1.800032751522977",
         "-1.7278061777575315",
         "0"
        ],
        [
         "18",
         "-1.7972348049800368",
         "-2.307282161834923",
         "0"
        ],
        [
         "19",
         "-1.3640443273716156",
         "1.0445362645337302",
         "1"
        ],
        [
         "20",
         "-0.6385056945354302",
         "-0.5423934457573678",
         "0"
        ],
        [
         "21",
         "-1.3875312155607333",
         "-1.2792174231840117",
         "0"
        ],
        [
         "22",
         "-0.301026400995812",
         "0.09735336026017327",
         "0"
        ],
        [
         "23",
         "-1.6748252603464542",
         "-2.695364999691906",
         "0"
        ],
        [
         "24",
         "-0.45038246850130137",
         "-0.23385036587990538",
         "0"
        ],
        [
         "25",
         "-0.23981099932125471",
         "0.2494598047926675",
         "0"
        ],
        [
         "26",
         "-0.46873232053867797",
         "0.11724239352081656",
         "1"
        ],
        [
         "27",
         "-1.4746146192386442",
         "-0.7920837095821037",
         "0"
        ],
        [
         "28",
         "-0.6020247189503729",
         "-0.9777230029401008",
         "0"
        ],
        [
         "29",
         "0.6228338557509538",
         "1.4206949242295983",
         "0"
        ],
        [
         "30",
         "-1.5822537050243812",
         "-1.6782512298878909",
         "0"
        ],
        [
         "31",
         "-0.6511984895759864",
         "-0.5183448123755847",
         "0"
        ],
        [
         "32",
         "-2.263611564794172",
         "-1.95836011018493",
         "0"
        ],
        [
         "33",
         "-1.3128837095681425",
         "-0.817248061771108",
         "0"
        ],
        [
         "34",
         "0.1944712698064528",
         "2.5997205057333543",
         "1"
        ],
        [
         "35",
         "-1.152921387991757",
         "-1.7548850818201585",
         "0"
        ],
        [
         "36",
         "-1.9107998330571805",
         "-1.927793661003583",
         "0"
        ],
        [
         "37",
         "-1.4815431889458799",
         "-1.2796447370099349",
         "0"
        ],
        [
         "38",
         "-1.4738789387330535",
         "-1.3882744948562042",
         "0"
        ],
        [
         "39",
         "-1.224170178418405",
         "0.097356514481165",
         "1"
        ],
        [
         "40",
         "-1.1216399328211029",
         "-1.588587924755473",
         "0"
        ],
        [
         "41",
         "-1.0383682032618935",
         "-1.5091248009411473",
         "0"
        ],
        [
         "42",
         "-0.7373600327637372",
         "-0.41709126918192474",
         "0"
        ],
        [
         "43",
         "-0.7573164134323096",
         "-0.13149387828845616",
         "0"
        ],
        [
         "44",
         "-0.8409279416297284",
         "-0.0068815684890334294",
         "0"
        ],
        [
         "45",
         "-1.0365747872409345",
         "-0.8190068954358967",
         "0"
        ],
        [
         "46",
         "-0.5725644235663707",
         "-0.016101070995590883",
         "0"
        ],
        [
         "47",
         "-0.960188857258053",
         "-0.8848138773372317",
         "0"
        ],
        [
         "48",
         "-1.1451989163872258",
         "-0.6263463795954588",
         "0"
        ],
        [
         "49",
         "-0.488528737089729",
         "-0.01449550313306247",
         "0"
        ]
       ],
       "shape": {
        "columns": 3,
        "rows": 1800
       }
      },
      "text/html": [
       "<div>\n",
       "<style scoped>\n",
       "    .dataframe tbody tr th:only-of-type {\n",
       "        vertical-align: middle;\n",
       "    }\n",
       "\n",
       "    .dataframe tbody tr th {\n",
       "        vertical-align: top;\n",
       "    }\n",
       "\n",
       "    .dataframe thead th {\n",
       "        text-align: right;\n",
       "    }\n",
       "</style>\n",
       "<table border=\"1\" class=\"dataframe\">\n",
       "  <thead>\n",
       "    <tr style=\"text-align: right;\">\n",
       "      <th></th>\n",
       "      <th>f1</th>\n",
       "      <th>f2</th>\n",
       "      <th>targets</th>\n",
       "    </tr>\n",
       "  </thead>\n",
       "  <tbody>\n",
       "    <tr>\n",
       "      <th>0</th>\n",
       "      <td>-0.762898</td>\n",
       "      <td>-0.706808</td>\n",
       "      <td>0</td>\n",
       "    </tr>\n",
       "    <tr>\n",
       "      <th>1</th>\n",
       "      <td>-1.075436</td>\n",
       "      <td>-1.051162</td>\n",
       "      <td>0</td>\n",
       "    </tr>\n",
       "    <tr>\n",
       "      <th>2</th>\n",
       "      <td>-0.610115</td>\n",
       "      <td>-0.909802</td>\n",
       "      <td>0</td>\n",
       "    </tr>\n",
       "    <tr>\n",
       "      <th>3</th>\n",
       "      <td>-2.023284</td>\n",
       "      <td>-0.428945</td>\n",
       "      <td>1</td>\n",
       "    </tr>\n",
       "    <tr>\n",
       "      <th>4</th>\n",
       "      <td>-0.812921</td>\n",
       "      <td>-1.316206</td>\n",
       "      <td>0</td>\n",
       "    </tr>\n",
       "    <tr>\n",
       "      <th>...</th>\n",
       "      <td>...</td>\n",
       "      <td>...</td>\n",
       "      <td>...</td>\n",
       "    </tr>\n",
       "    <tr>\n",
       "      <th>1795</th>\n",
       "      <td>0.059630</td>\n",
       "      <td>2.255884</td>\n",
       "      <td>1</td>\n",
       "    </tr>\n",
       "    <tr>\n",
       "      <th>1796</th>\n",
       "      <td>-1.692421</td>\n",
       "      <td>-0.632020</td>\n",
       "      <td>1</td>\n",
       "    </tr>\n",
       "    <tr>\n",
       "      <th>1797</th>\n",
       "      <td>-0.282268</td>\n",
       "      <td>1.972533</td>\n",
       "      <td>1</td>\n",
       "    </tr>\n",
       "    <tr>\n",
       "      <th>1798</th>\n",
       "      <td>-1.485760</td>\n",
       "      <td>0.259788</td>\n",
       "      <td>1</td>\n",
       "    </tr>\n",
       "    <tr>\n",
       "      <th>1799</th>\n",
       "      <td>-1.786297</td>\n",
       "      <td>0.624783</td>\n",
       "      <td>1</td>\n",
       "    </tr>\n",
       "  </tbody>\n",
       "</table>\n",
       "<p>1800 rows × 3 columns</p>\n",
       "</div>"
      ],
      "text/plain": [
       "            f1        f2  targets\n",
       "0    -0.762898 -0.706808        0\n",
       "1    -1.075436 -1.051162        0\n",
       "2    -0.610115 -0.909802        0\n",
       "3    -2.023284 -0.428945        1\n",
       "4    -0.812921 -1.316206        0\n",
       "...        ...       ...      ...\n",
       "1795  0.059630  2.255884        1\n",
       "1796 -1.692421 -0.632020        1\n",
       "1797 -0.282268  1.972533        1\n",
       "1798 -1.485760  0.259788        1\n",
       "1799 -1.786297  0.624783        1\n",
       "\n",
       "[1800 rows x 3 columns]"
      ]
     },
     "execution_count": 133,
     "metadata": {},
     "output_type": "execute_result"
    }
   ],
   "source": [
    "# concat the oversampled data\n",
    "df1 = pd.DataFrame(X, columns=['f1', 'f2'])\n",
    "df2 = pd.DataFrame(y, columns=['targets'])\n",
    "oversampled = pd.concat([df1, df2], axis = 1)\n",
    "\n",
    "oversampled"
   ]
  },
  {
   "cell_type": "code",
   "execution_count": 134,
   "id": "4e70664b",
   "metadata": {},
   "outputs": [
    {
     "data": {
      "text/plain": [
       "<matplotlib.collections.PathCollection at 0x70a5239ff390>"
      ]
     },
     "execution_count": 134,
     "metadata": {},
     "output_type": "execute_result"
    },
    {
     "data": {
      "image/png": "[encoded data removed]",
      "text/plain": [
       "<Figure size 640x480 with 1 Axes>"
      ]
     },
     "metadata": {},
     "output_type": "display_data"
    }
   ],
   "source": [
    "plt.scatter(oversampled['f1'], oversampled['f2'], c=oversampled['targets'])"
   ]
  },
  {
   "cell_type": "markdown",
   "id": "69b0f1b0",
   "metadata": {},
   "source": [
    "# Outlier Handling"
   ]
  },
  {
   "cell_type": "code",
   "execution_count": 161,
   "id": "3f09ca21",
   "metadata": {},
   "outputs": [
    {
     "name": "stdout",
     "output_type": "stream",
     "text": [
      "[46, 35, 67, 63, 60, 49, 45, 43, 86, 36, 35, 43, 59, 61, 96, 35, 57, 85, 60, 89, 67, 32, 52, 86, 75, 1120, 1130, 1560, 1200]\n"
     ]
    }
   ],
   "source": [
    "random.seed(42)\n",
    "randomo_marks = [random.randint(32, 100) for _ in range(25)]\n",
    "\n",
    "marks = [46, 35, 67, 63, 60, 49, 45, 43, 86, 36, 35, 43, 59, 61, \n",
    "         96, 35, 57, 85, 60, 89, 67, 32, 52, 86, 75, 1120, 1130, 1560, 1200]\n",
    "\n",
    "print(marks)\n",
    "# generate min, max, q1, q2, q3 \n",
    "\n",
    "minimum, q1, median, q3, maximum = np.quantile(marks, [0, 0.25, 0.5, 0.75, 1.0])"
   ]
  },
  {
   "cell_type": "code",
   "execution_count": 162,
   "id": "af78582a",
   "metadata": {},
   "outputs": [
    {
     "data": {
      "text/plain": [
       "(np.float64(32.0),\n",
       " np.float64(45.0),\n",
       " np.float64(60.0),\n",
       " np.float64(86.0),\n",
       " np.float64(1560.0))"
      ]
     },
     "execution_count": 162,
     "metadata": {},
     "output_type": "execute_result"
    }
   ],
   "source": [
    "minimum, q1, median, q3, maximum"
   ]
  },
  {
   "cell_type": "code",
   "execution_count": 163,
   "id": "55d0aacc",
   "metadata": {},
   "outputs": [
    {
     "data": {
      "text/plain": [
       "(np.float64(-16.5), np.float64(147.5))"
      ]
     },
     "execution_count": 163,
     "metadata": {},
     "output_type": "execute_result"
    }
   ],
   "source": [
    "# calculate IQR, lower bound and upper bound\n",
    "\n",
    "IQR = q3 - q1\n",
    "\n",
    "lower_bound = q1 - (1.5 * IQR)\n",
    "upper_bound = q3 + (1.5 * IQR)\n",
    "\n",
    "lower_bound, upper_bound"
   ]
  },
  {
   "cell_type": "code",
   "execution_count": 164,
   "id": "eb14c805",
   "metadata": {},
   "outputs": [
    {
     "data": {
      "text/plain": [
       "<Axes: >"
      ]
     },
     "execution_count": 164,
     "metadata": {},
     "output_type": "execute_result"
    },
    {
     "data": {
      "image/png": "[encoded data removed]",
      "text/plain": [
       "<Figure size 640x480 with 1 Axes>"
      ]
     },
     "metadata": {},
     "output_type": "display_data"
    }
   ],
   "source": [
    "sns.boxplot(marks)"
   ]
  }
 ],
 "metadata": {
  "kernelspec": {
   "display_name": "genenv",
   "language": "python",
   "name": "python3"
  },
  "language_info": {
   "codemirror_mode": {
    "name": "ipython",
    "version": 3
   },
   "file_extension": ".py",
   "mimetype": "text/x-python",
   "name": "python",
   "nbconvert_exporter": "python",
   "pygments_lexer": "ipython3",
   "version": "3.13.5"
  }
 },
 "nbformat": 4,
 "nbformat_minor": 5
}
