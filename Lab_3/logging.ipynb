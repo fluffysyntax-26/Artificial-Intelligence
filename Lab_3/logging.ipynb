{
 "cells": [
  {
   "cell_type": "markdown",
   "id": "a1732fbc",
   "metadata": {},
   "source": [
    "Python's logging module is a standard library for tracking events that occur while a program is running. It provides a flexible and powerful way to capture diagnostic information, warnings, and errors in a structured manner to a file or the console."
   ]
  },
  {
   "cell_type": "code",
   "execution_count": 1,
   "id": "86227e33",
   "metadata": {},
   "outputs": [],
   "source": [
    "import logging"
   ]
  },
  {
   "cell_type": "code",
   "execution_count": 2,
   "id": "be8f5638",
   "metadata": {},
   "outputs": [
    {
     "name": "stderr",
     "output_type": "stream",
     "text": [
      "DEBUG:root:This is a debug message\n",
      "INFO:root:This is an info message\n",
      "WARNING:root:This is a warning message\n",
      "ERROR:root:This is an error message\n",
      "CRITICAL:root:This is a critical failure\n"
     ]
    }
   ],
   "source": [
    "# Configure the basic logging settings\n",
    "\n",
    "logging.basicConfig(level=logging.DEBUG)\n",
    "\n",
    "## Log messages with severity level\n",
    "logging.debug(\"This is a debug message\")\n",
    "logging.info(\"This is an info message\")\n",
    "logging.warning(\"This is a warning message\")\n",
    "logging.error(\"This is an error message\")\n",
    "logging.critical(\"This is a critical failure\")"
   ]
  },
  {
   "cell_type": "markdown",
   "id": "b9407b00",
   "metadata": {},
   "source": [
    "### Python log levels \n",
    "\n",
    "logging.debug(): Used for detailed diagnostic information, typically of interest only to developers during debugging. These messages are usually filtered out in a production environment.\n",
    "\n",
    "logging.info(): Used to confirm that things are working as expected. It provides general-purpose information about the program's progress.\n",
    "\n",
    "logging.warning(): Indicates that something unexpected happened, or a potential problem occurred, but the software is still working as expected.\n",
    "\n",
    "logging.error(): Indicates a more serious problem where the software has failed to perform a specific function or operation.\n",
    "\n",
    "logging.critical(): Used to indicate a very serious error that may cause the program itself to terminate or become unusable."
   ]
  },
  {
   "cell_type": "code",
   "execution_count": 4,
   "id": "e4568b4b",
   "metadata": {},
   "outputs": [
    {
     "name": "stderr",
     "output_type": "stream",
     "text": [
      "DEBUG:root:This is a debug message\n",
      "INFO:root:This is an info message\n",
      "WARNING:root:This is a warning message\n",
      "ERROR:root:This is an error message\n",
      "CRITICAL:root:This is a critical failure\n"
     ]
    }
   ],
   "source": [
    "# Configuring logging\n",
    "\n",
    "logging.basicConfig(\n",
    "    level=logging.DEBUG, \n",
    "    format='%(asctime)s-%(name)s-%(levelname)s-%(message)s',\n",
    "    datefmt = '%Y-%m-%d %H:%M:%S'\n",
    ")\n",
    "\n",
    "logging.debug(\"This is a debug message\")\n",
    "logging.info(\"This is an info message\")\n",
    "logging.warning(\"This is a warning message\")\n",
    "logging.error(\"This is an error message\")\n",
    "logging.critical(\"This is a critical failure\")"
   ]
  }
 ],
 "metadata": {
  "kernelspec": {
   "display_name": "genenv",
   "language": "python",
   "name": "python3"
  },
  "language_info": {
   "codemirror_mode": {
    "name": "ipython",
    "version": 3
   },
   "file_extension": ".py",
   "mimetype": "text/x-python",
   "name": "python",
   "nbconvert_exporter": "python",
   "pygments_lexer": "ipython3",
   "version": "3.13.5"
  }
 },
 "nbformat": 4,
 "nbformat_minor": 5
}
