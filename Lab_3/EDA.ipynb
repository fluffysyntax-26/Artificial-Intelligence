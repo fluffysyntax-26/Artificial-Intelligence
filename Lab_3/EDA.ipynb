{
 "cells": [
  {
   "cell_type": "markdown",
   "id": "384d1afa",
   "metadata": {},
   "source": [
    "## Exploratory Data Analysis"
   ]
  },
  {
   "cell_type": "code",
   "execution_count": 57,
   "id": "c171a020",
   "metadata": {},
   "outputs": [],
   "source": [
    "import pandas as pd\n",
    "from sklearn.preprocessing import LabelEncoder\n",
    "from sklearn.model_selection import train_test_split\n",
    "from sklearn.linear_model import LinearRegression\n",
    "from sklearn.metrics import r2_score\n",
    "\n",
    "# Added in this session\n",
    "import numpy as np\n",
    "import matplotlib.pyplot as plt\n",
    "import seaborn as sn \n",
    "from sklearn.preprocessing import MinMaxScaler, StandardScaler"
   ]
  },
  {
   "cell_type": "code",
   "execution_count": null,
   "id": "e4bd79a8",
   "metadata": {},
   "outputs": [],
   "source": [
    "df = pd.read_csv(\"CarPrice_missing.csv\")\n",
    "df.head()"
   ]
  },
  {
   "cell_type": "code",
   "execution_count": null,
   "id": "d2225e7f",
   "metadata": {},
   "outputs": [],
   "source": [
    "df.info()"
   ]
  },
  {
   "cell_type": "code",
   "execution_count": null,
   "id": "a3c9c70e",
   "metadata": {},
   "outputs": [],
   "source": [
    "# check for missing values and plot the graph\n",
    "df.isna().sum().plot(kind=\"bar\")"
   ]
  },
  {
   "cell_type": "markdown",
   "id": "22a72606",
   "metadata": {},
   "source": [
    "\n",
    "Handling missing values - drop the rows and columns with missing values"
   ]
  },
  {
   "cell_type": "code",
   "execution_count": null,
   "id": "dee17f74",
   "metadata": {},
   "outputs": [],
   "source": [
    "# keep the original untouched, copy the original dataframe\n",
    "copyone = df.copy()\n",
    "copyone.head()"
   ]
  },
  {
   "cell_type": "code",
   "execution_count": null,
   "id": "750fd242",
   "metadata": {},
   "outputs": [],
   "source": [
    "# drop the rows with missing values\n",
    "copyone.dropna()"
   ]
  },
  {
   "cell_type": "code",
   "execution_count": null,
   "id": "449cdba6",
   "metadata": {},
   "outputs": [],
   "source": [
    "# drop the column itself\n",
    "copytwo = df.copy()\n",
    "copytwo.dropna(axis=1)\n",
    "\n",
    "df.info()"
   ]
  },
  {
   "cell_type": "markdown",
   "id": "dec9b9af",
   "metadata": {},
   "source": [
    "Handling Missing values - Imputation (mean and median)"
   ]
  },
  {
   "cell_type": "code",
   "execution_count": null,
   "id": "0cfa4e2a",
   "metadata": {},
   "outputs": [],
   "source": [
    "copythree = df.copy()\n",
    "\n",
    "# fill missing values with the mean of the column\n",
    "copythree = copythree.fillna(df.select_dtypes([\"int64\", 'float64']).mean())\n",
    "copythree.isna().sum().plot(kind=\"bar\")\n",
    "copythree.info()\n",
    "\n",
    "'''\n",
    "fillna method applies the argument to the df but doesn't save it anywhere, \n",
    "so make sure you assign it to the existing or a new dataframe\n",
    "'''"
   ]
  },
  {
   "cell_type": "code",
   "execution_count": null,
   "id": "ce7f182a",
   "metadata": {},
   "outputs": [],
   "source": [
    "copyfour = df.copy()\n",
    "\n",
    "# fill misssing values with median\n",
    "copyfour = copyfour.fillna(df.select_dtypes(['int64', 'float64']).mean())\n",
    "copyfour.isna().sum().plot(kind=\"bar\")"
   ]
  },
  {
   "cell_type": "code",
   "execution_count": null,
   "id": "8cd3061d",
   "metadata": {},
   "outputs": [],
   "source": [
    "# you can fill the missing values with mode too, but it is not recommended for this dataset\n",
    "copyfive = df.copy()\n",
    "\n",
    "copyfive = copyfive.fillna(df.select_dtypes(['int64', 'float64']).mode().iloc[0])\n",
    "copyfive.isna().sum().plot(kind='bar')\n",
    "\n",
    "'''\n",
    "df.mean() returns a pandas Series\n",
    "df.mode() returns a pandas Df\n",
    "\n",
    "mode() returns a df because a column may have multiple modes, pandas returns a df to handle this possibility, \n",
    "with each row representing a mode\n",
    "\n",
    "when you call fillna() with a df, pandas tries to align on the row index, the result of mode() is a df that\n",
    "usually has only one row with an index of 0, therefore, it fills only NaN in copyfive df at rowindex 0, leaving\n",
    "other NaN unctouched\n",
    "\n",
    "The solution is to select the first row from the mode DataFrame. This converts it into a Series, \n",
    "which fillna() will then use to fill values by matching column names—exactly the behavior you want.\n",
    "'''"
   ]
  },
  {
   "cell_type": "markdown",
   "id": "17d3fe6c",
   "metadata": {},
   "source": [
    "Handling Missing Values - Hot deck imputation: forward fill and backward fill"
   ]
  },
  {
   "cell_type": "code",
   "execution_count": null,
   "id": "a8b433dc",
   "metadata": {},
   "outputs": [],
   "source": [
    "copysix = df.copy()\n",
    "\n",
    "# forward fill\n",
    "copysix = copysix.ffill()\n",
    "copysix"
   ]
  },
  {
   "cell_type": "code",
   "execution_count": null,
   "id": "38019fab",
   "metadata": {},
   "outputs": [],
   "source": [
    "copyseven = df.copy()\n",
    "\n",
    "# backward fill\n",
    "copyseven = copyseven.bfill()\n",
    "copyseven"
   ]
  },
  {
   "cell_type": "markdown",
   "id": "df7411eb",
   "metadata": {},
   "source": [
    "## Categorical Encoding\n",
    "### One-Hot Encoding"
   ]
  },
  {
   "cell_type": "code",
   "execution_count": null,
   "id": "9c4ad303",
   "metadata": {},
   "outputs": [],
   "source": [
    "one_hot = df.copy()\n",
    "\n",
    "pd.get_dummies(one_hot)"
   ]
  },
  {
   "cell_type": "markdown",
   "id": "3bca8c11",
   "metadata": {},
   "source": [
    "### Label Encoding\n",
    "\n",
    "Grab the \"object\" type columns and convert them into numeric values, \n",
    "this will be done via the label encoder class from sklearn "
   ]
  },
  {
   "cell_type": "code",
   "execution_count": null,
   "id": "1ca33c92",
   "metadata": {},
   "outputs": [],
   "source": [
    "# append the object type column names for reference\n",
    "labels = df.copy()\n",
    "\n",
    "object_columns = []\n",
    "\n",
    "for i in labels.select_dtypes(\"object\").columns:\n",
    "    # instanciate the LabelEncoder Class \n",
    "    le = LabelEncoder()\n",
    "\n",
    "    # grab every column and pass it to the label encoder\n",
    "    labels[i] = le.fit_transform(df[i])"
   ]
  },
  {
   "cell_type": "markdown",
   "id": "d296cf9e",
   "metadata": {},
   "source": [
    "Now all columns will have numeric values"
   ]
  },
  {
   "cell_type": "code",
   "execution_count": null,
   "id": "bdd81eca",
   "metadata": {},
   "outputs": [],
   "source": [
    "labels\n",
    "labels.info()"
   ]
  },
  {
   "cell_type": "markdown",
   "id": "5d8116aa",
   "metadata": {},
   "source": [
    "# Feature Scaling\n",
    "## Normalisation\n",
    "\n",
    "fill the missing values by imputation of mean and apply min max scaler"
   ]
  },
  {
   "cell_type": "code",
   "execution_count": null,
   "id": "b8b6d386",
   "metadata": {},
   "outputs": [],
   "source": [
    "norm_data = df.copy()\n",
    "\n",
    "# instanciate the min-max scaler\n",
    "norm = MinMaxScaler()\n",
    "\n",
    "# fill missing values with mean\n",
    "norm_data = norm_data.fillna(norm_data.select_dtypes(['int64', 'float64']).mean())\n",
    "\n",
    "# apply min max scaler to the numerical types, returns a numpy array\n",
    "norm_data = norm.fit_transform(norm_data.select_dtypes(['int64', 'float64']))\n",
    "\n",
    "# print the column names of the numeric data types, copy them and pass it to the column parameter of the norm_data\n",
    "print((df.select_dtypes(['int64', 'float64']).columns))\n",
    "\n",
    "# convert the numpy array into a pandas dataframe, there will be no column names, so add column names manually\n",
    "norm_data = pd.DataFrame(norm_data, columns = ['car_ID', 'symboling', 'CarName', 'fueltype', 'aspiration',\n",
    "       'doornumber', 'carbody', 'drivewheel', 'enginelocation', 'wheelbase',\n",
    "       'carlength', 'carwidth', 'carheight', 'curbweight', 'enginetype',\n",
    "       'cylindernumber', 'enginesize', 'fuelsystem', 'boreratio', 'stroke',\n",
    "       'compressionratio', 'horsepower', 'peakrpm', 'citympg', 'highwaympg',\n",
    "       'price'])\n",
    "\n",
    "# the min is 0 and max is 1\n",
    "norm_data.describe().T # T stands for transpose (for better view)"
   ]
  },
  {
   "cell_type": "markdown",
   "id": "78c3922c",
   "metadata": {},
   "source": [
    "## Standardisation\n",
    "\n",
    "Fill up the missing values with median and apply z-score (standardisation on this dataset is not recommended as the data is not normally distributed)"
   ]
  },
  {
   "cell_type": "code",
   "execution_count": null,
   "id": "1cd49c89",
   "metadata": {},
   "outputs": [],
   "source": [
    "stan = df.copy()\n",
    "\n",
    "# fill up the missing values with median (median is safer)\n",
    "stan.fillna(stan.select_dtypes(['int64', 'float64']).median())\n",
    "\n",
    "# instanciate the standard scaler class\n",
    "stan_scaler = StandardScaler()\n",
    "\n",
    "# apply standard scaler on the numeric data types\n",
    "stan = stan_scaler.fit_transform(stan.select_dtypes([\"int64\", \"float64\"]))\n",
    "\n",
    "# extract column names from the original df\n",
    "print(df.select_dtypes(['int64', 'float64']).columns)\n",
    "\n",
    "# convert the array into a pandas dataframe \n",
    "stan = pd.DataFrame(stan, columns=['car_ID', 'symboling', 'CarName', 'fueltype', 'aspiration',\n",
    "       'doornumber', 'carbody', 'drivewheel', 'enginelocation', 'wheelbase',\n",
    "       'carlength', 'carwidth', 'carheight', 'curbweight', 'enginetype',\n",
    "       'cylindernumber', 'enginesize', 'fuelsystem', 'boreratio', 'stroke',\n",
    "       'compressionratio', 'horsepower', 'peakrpm', 'citympg', 'highwaympg',\n",
    "       'price'])\n",
    "\n",
    "# describe the standardised dataframe\n",
    "stan.describe().T\n",
    "\n",
    "''' \n",
    "The mean is close to zero, but not exactly 0, this is because the data is not normally distributed\n",
    "'''\n"
   ]
  },
  {
   "cell_type": "markdown",
   "id": "38c246a4",
   "metadata": {},
   "source": [
    "# Outliers\n",
    "\n",
    "## Detection"
   ]
  },
  {
   "cell_type": "code",
   "execution_count": null,
   "id": "9cc23f0e",
   "metadata": {},
   "outputs": [],
   "source": [
    "# plot the outliers for each column\n",
    "\n",
    "# iterate through the numeric columns\n",
    "for i in df.select_dtypes(['int64', 'float64']).columns: \n",
    "    # plt a figure of size 3 x 3 (300x300)\n",
    "    plt.figure(figsize=(3,3))\n",
    "\n",
    "    # seaborn boxplot\n",
    "    sn.boxplot(y=i, data=df)\n",
    "\n",
    "    # show the plotted image\n",
    "    plt.show()"
   ]
  },
  {
   "cell_type": "markdown",
   "id": "37c7fac8",
   "metadata": {},
   "source": [
    "## Outlier Handling"
   ]
  },
  {
   "cell_type": "code",
   "execution_count": null,
   "id": "22241560",
   "metadata": {},
   "outputs": [],
   "source": [
    "outlier_data = df.copy()\n",
    "\n",
    "for i in outlier_data.select_dtypes(['int64', 'float64']).columns:\n",
    "    # Calculate IQR\n",
    "    q1 = outlier_data[i].quantile(0.25)\n",
    "    q3 = outlier_data[i].quantile(0.75)\n",
    "    IQR = q3 - q1\n",
    "\n",
    "    # calculate upper and lower bound\n",
    "    lower = q1 - (1.5 * IQR)\n",
    "    upper = q3 + (1.5 * IQR)\n",
    "\n",
    "    # calulate median of the column\n",
    "    med = outlier_data[i].median()\n",
    "\n",
    "    # replace outliers with median\n",
    "    outlier_data[i] = np.where((outlier_data[i] < lower) | (outlier_data[i] > upper), med, outlier_data[i])"
   ]
  },
  {
   "cell_type": "markdown",
   "id": "cb8ee4fa",
   "metadata": {},
   "source": [
    "# Binning/Grouping data"
   ]
  },
  {
   "cell_type": "code",
   "execution_count": 67,
   "id": "088d9a4d",
   "metadata": {},
   "outputs": [
    {
     "data": {
      "application/vnd.microsoft.datawrangler.viewer.v0+json": {
       "columns": [
        {
         "name": "index",
         "rawType": "int64",
         "type": "integer"
        },
        {
         "name": "wheelbase",
         "rawType": "float64",
         "type": "float"
        },
        {
         "name": "wheelbase_bin",
         "rawType": "category",
         "type": "unknown"
        }
       ],
       "ref": "146d2a9c-2c90-413f-a607-ba42efdc2260",
       "rows": [
        [
         "0",
         "88.6",
         "Small"
        ],
        [
         "1",
         "88.6",
         "Small"
        ],
        [
         "2",
         "94.5",
         "Small"
        ],
        [
         "3",
         "99.8",
         "Mid"
        ],
        [
         "4",
         "99.4",
         "Mid"
        ],
        [
         "5",
         "99.8",
         "Mid"
        ],
        [
         "6",
         "105.8",
         "Large"
        ],
        [
         "7",
         "105.8",
         "Large"
        ],
        [
         "8",
         "105.8",
         "Large"
        ],
        [
         "9",
         "99.5",
         "Mid"
        ],
        [
         "10",
         "101.2",
         "Large"
        ],
        [
         "11",
         "101.2",
         "Large"
        ],
        [
         "12",
         "101.2",
         "Large"
        ],
        [
         "13",
         "101.2",
         "Large"
        ],
        [
         "14",
         "103.5",
         "Large"
        ],
        [
         "15",
         "103.5",
         "Large"
        ],
        [
         "16",
         "103.5",
         "Large"
        ],
        [
         "17",
         "110.0",
         "Large"
        ],
        [
         "18",
         "88.4",
         "Small"
        ],
        [
         "19",
         "94.5",
         "Small"
        ],
        [
         "20",
         "94.5",
         "Small"
        ],
        [
         "21",
         "93.7",
         "Small"
        ],
        [
         "22",
         "93.7",
         "Small"
        ],
        [
         "23",
         "93.7",
         "Small"
        ],
        [
         "24",
         "93.7",
         "Small"
        ],
        [
         "25",
         "93.7",
         "Small"
        ],
        [
         "26",
         "93.7",
         "Small"
        ],
        [
         "27",
         "93.7",
         "Small"
        ],
        [
         "28",
         "103.3",
         "Large"
        ],
        [
         "29",
         "95.9",
         "Mid"
        ],
        [
         "30",
         "86.6",
         "Small"
        ],
        [
         "31",
         "86.6",
         "Small"
        ],
        [
         "32",
         "93.7",
         "Small"
        ],
        [
         "33",
         "93.7",
         "Small"
        ],
        [
         "34",
         "93.7",
         "Small"
        ],
        [
         "35",
         "96.5",
         "Mid"
        ],
        [
         "36",
         "96.5",
         "Mid"
        ],
        [
         "37",
         "96.5",
         "Mid"
        ],
        [
         "38",
         "96.5",
         "Mid"
        ],
        [
         "39",
         "96.5",
         "Mid"
        ],
        [
         "40",
         "96.5",
         "Mid"
        ],
        [
         "41",
         "96.5",
         "Mid"
        ],
        [
         "42",
         "96.5",
         "Mid"
        ],
        [
         "43",
         "94.3",
         "Small"
        ],
        [
         "44",
         "94.5",
         "Small"
        ],
        [
         "45",
         "94.5",
         "Small"
        ],
        [
         "46",
         "96.0",
         "Mid"
        ],
        [
         "47",
         "113.0",
         "Large"
        ],
        [
         "48",
         "113.0",
         "Large"
        ],
        [
         "49",
         "102.0",
         "Large"
        ]
       ],
       "shape": {
        "columns": 2,
        "rows": 205
       }
      },
      "text/html": [
       "<div>\n",
       "<style scoped>\n",
       "    .dataframe tbody tr th:only-of-type {\n",
       "        vertical-align: middle;\n",
       "    }\n",
       "\n",
       "    .dataframe tbody tr th {\n",
       "        vertical-align: top;\n",
       "    }\n",
       "\n",
       "    .dataframe thead th {\n",
       "        text-align: right;\n",
       "    }\n",
       "</style>\n",
       "<table border=\"1\" class=\"dataframe\">\n",
       "  <thead>\n",
       "    <tr style=\"text-align: right;\">\n",
       "      <th></th>\n",
       "      <th>wheelbase</th>\n",
       "      <th>wheelbase_bin</th>\n",
       "    </tr>\n",
       "  </thead>\n",
       "  <tbody>\n",
       "    <tr>\n",
       "      <th>0</th>\n",
       "      <td>88.6</td>\n",
       "      <td>Small</td>\n",
       "    </tr>\n",
       "    <tr>\n",
       "      <th>1</th>\n",
       "      <td>88.6</td>\n",
       "      <td>Small</td>\n",
       "    </tr>\n",
       "    <tr>\n",
       "      <th>2</th>\n",
       "      <td>94.5</td>\n",
       "      <td>Small</td>\n",
       "    </tr>\n",
       "    <tr>\n",
       "      <th>3</th>\n",
       "      <td>99.8</td>\n",
       "      <td>Mid</td>\n",
       "    </tr>\n",
       "    <tr>\n",
       "      <th>4</th>\n",
       "      <td>99.4</td>\n",
       "      <td>Mid</td>\n",
       "    </tr>\n",
       "    <tr>\n",
       "      <th>...</th>\n",
       "      <td>...</td>\n",
       "      <td>...</td>\n",
       "    </tr>\n",
       "    <tr>\n",
       "      <th>200</th>\n",
       "      <td>109.1</td>\n",
       "      <td>Large</td>\n",
       "    </tr>\n",
       "    <tr>\n",
       "      <th>201</th>\n",
       "      <td>109.1</td>\n",
       "      <td>Large</td>\n",
       "    </tr>\n",
       "    <tr>\n",
       "      <th>202</th>\n",
       "      <td>109.1</td>\n",
       "      <td>Large</td>\n",
       "    </tr>\n",
       "    <tr>\n",
       "      <th>203</th>\n",
       "      <td>109.1</td>\n",
       "      <td>Large</td>\n",
       "    </tr>\n",
       "    <tr>\n",
       "      <th>204</th>\n",
       "      <td>109.1</td>\n",
       "      <td>Large</td>\n",
       "    </tr>\n",
       "  </tbody>\n",
       "</table>\n",
       "<p>205 rows × 2 columns</p>\n",
       "</div>"
      ],
      "text/plain": [
       "     wheelbase wheelbase_bin\n",
       "0         88.6         Small\n",
       "1         88.6         Small\n",
       "2         94.5         Small\n",
       "3         99.8           Mid\n",
       "4         99.4           Mid\n",
       "..         ...           ...\n",
       "200      109.1         Large\n",
       "201      109.1         Large\n",
       "202      109.1         Large\n",
       "203      109.1         Large\n",
       "204      109.1         Large\n",
       "\n",
       "[205 rows x 2 columns]"
      ]
     },
     "execution_count": 67,
     "metadata": {},
     "output_type": "execute_result"
    }
   ],
   "source": [
    "# converting numerical data into categorical data \n",
    "df['wheelbase_bin'] = pd.cut(df['wheelbase'], bins = [85, 95, 100, 120], labels = ['Small', 'Mid', 'Large'])\n",
    "df[['wheelbase', 'wheelbase_bin']]"
   ]
  },
  {
   "cell_type": "code",
   "execution_count": 70,
   "id": "95a77a2e",
   "metadata": {},
   "outputs": [
    {
     "data": {
      "application/vnd.microsoft.datawrangler.viewer.v0+json": {
       "columns": [
        {
         "name": "('fueltype', 'carbody')",
         "rawType": "object",
         "type": "unknown"
        },
        {
         "name": "wheelbase",
         "rawType": "float64",
         "type": "float"
        }
       ],
       "ref": "e3e6ff2b-5d32-47ac-a8df-5fae96cde2ad",
       "rows": [
        [
         "(np.int64(0), np.int64(1))",
         "106.7"
        ],
        [
         "(np.int64(0), np.int64(2))",
         "95.7"
        ],
        [
         "(np.int64(0), np.int64(3))",
         "103.13333333333334"
        ],
        [
         "(np.int64(0), np.int64(4))",
         "112.8"
        ],
        [
         "(np.int64(1), np.int64(0))",
         "92.7"
        ],
        [
         "(np.int64(1), np.int64(1))",
         "97.32857142857142"
        ],
        [
         "(np.int64(1), np.int64(2))",
         "95.53333333333333"
        ],
        [
         "(np.int64(1), np.int64(3))",
         "100.15432098765432"
        ],
        [
         "(np.int64(1), np.int64(4))",
         "100.70454545454545"
        ]
       ],
       "shape": {
        "columns": 1,
        "rows": 9
       }
      },
      "text/plain": [
       "fueltype  carbody\n",
       "0         1          106.700000\n",
       "          2           95.700000\n",
       "          3          103.133333\n",
       "          4          112.800000\n",
       "1         0           92.700000\n",
       "          1           97.328571\n",
       "          2           95.533333\n",
       "          3          100.154321\n",
       "          4          100.704545\n",
       "Name: wheelbase, dtype: float64"
      ]
     },
     "execution_count": 70,
     "metadata": {},
     "output_type": "execute_result"
    }
   ],
   "source": [
    "# group the avg wheelbase according to fuel type\n",
    "df.groupby(['fueltype', 'carbody'])['wheelbase'].mean()"
   ]
  },
  {
   "cell_type": "markdown",
   "id": "b0788d4c",
   "metadata": {},
   "source": [
    "# Duplicate values"
   ]
  },
  {
   "cell_type": "code",
   "execution_count": 72,
   "id": "727a14b3",
   "metadata": {},
   "outputs": [
    {
     "data": {
      "text/plain": [
       "np.int64(0)"
      ]
     },
     "execution_count": 72,
     "metadata": {},
     "output_type": "execute_result"
    }
   ],
   "source": [
    "df.duplicated().sum()"
   ]
  },
  {
   "cell_type": "markdown",
   "id": "8ff1decb",
   "metadata": {},
   "source": [
    "## Model Building and Training"
   ]
  },
  {
   "cell_type": "markdown",
   "id": "f9decbec",
   "metadata": {},
   "source": [
    "Split the data into independent and dependent variables, in this case the dependent variable (the one which we want to predict the values for) is car price, so we take the price column as 'y' and others as 'X', we drop the columns which are not necessary for the X variable"
   ]
  },
  {
   "cell_type": "code",
   "execution_count": null,
   "id": "221f29c1",
   "metadata": {},
   "outputs": [],
   "source": [
    "# label Encoded Dataset\n",
    "object_columns = []\n",
    "\n",
    "for i in df.select_dtypes(\"object\").columns:\n",
    "    # instanciate the LabelEncoder Class \n",
    "    le = LabelEncoder()\n",
    "\n",
    "    # grab every column and pass it to the label encoder\n",
    "    df[i] = le.fit_transform(df[i])"
   ]
  },
  {
   "cell_type": "code",
   "execution_count": null,
   "id": "9ac27f99",
   "metadata": {},
   "outputs": [],
   "source": [
    "X = df.drop(['symboling', 'CarName', 'price'], axis=1)\n",
    "y = df['price']"
   ]
  },
  {
   "cell_type": "code",
   "execution_count": null,
   "id": "700afeec",
   "metadata": {},
   "outputs": [],
   "source": [
    "# split the X and y variables into train and test\n",
    "X_train, X_test, y_train, y_test = train_test_split(X, y, test_size=0.2, random_state=42)"
   ]
  },
  {
   "cell_type": "markdown",
   "id": "59a48d15",
   "metadata": {},
   "source": [
    "Build the model, using Multiple Linear Regression (Only as an example)"
   ]
  },
  {
   "cell_type": "code",
   "execution_count": null,
   "id": "5be68df3",
   "metadata": {},
   "outputs": [],
   "source": [
    "model = LinearRegression()\n",
    "\n",
    "# Train the model on 'Train data'\n",
    "model.fit(X_train, y_train)"
   ]
  },
  {
   "cell_type": "code",
   "execution_count": null,
   "id": "46603019",
   "metadata": {},
   "outputs": [],
   "source": [
    "# Predict on the test data\n",
    "y_pred_test = model.predict(X_test)\n",
    "y_pred_train = model.predict(X_train)\n"
   ]
  },
  {
   "cell_type": "code",
   "execution_count": null,
   "id": "1cc25c6f",
   "metadata": {},
   "outputs": [],
   "source": [
    "# compare the predicted test data with the actual test data\n",
    "test_accuracy = r2_score(y_test, y_pred_test)\n",
    "train_accuracy = r2_score(y_train, y_pred_train)\n",
    "\n",
    "print(\"Test Accuracy:\", test_accuracy)\n",
    "print(\"Train Accuracy:\", train_accuracy)"
   ]
  }
 ],
 "metadata": {
  "kernelspec": {
   "display_name": "genenv",
   "language": "python",
   "name": "python3"
  },
  "language_info": {
   "codemirror_mode": {
    "name": "ipython",
    "version": 3
   },
   "file_extension": ".py",
   "mimetype": "text/x-python",
   "name": "python",
   "nbconvert_exporter": "python",
   "pygments_lexer": "ipython3",
   "version": "3.13.5"
  }
 },
 "nbformat": 4,
 "nbformat_minor": 5
}
