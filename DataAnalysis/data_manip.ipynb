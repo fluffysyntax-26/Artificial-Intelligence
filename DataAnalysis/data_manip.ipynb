{
 "cells": [
  {
   "cell_type": "code",
   "execution_count": 1,
   "id": "c179b43d",
   "metadata": {},
   "outputs": [],
   "source": [
    "import pandas as pd"
   ]
  },
  {
   "cell_type": "code",
   "execution_count": 6,
   "id": "2cfdffd9",
   "metadata": {},
   "outputs": [
    {
     "data": {
      "application/vnd.microsoft.datawrangler.viewer.v0+json": {
       "columns": [
        {
         "name": "index",
         "rawType": "int64",
         "type": "integer"
        },
        {
         "name": "series_name",
         "rawType": "object",
         "type": "string"
        },
        {
         "name": "base_number",
         "rawType": "object",
         "type": "string"
        },
        {
         "name": "company_name",
         "rawType": "object",
         "type": "string"
        },
        {
         "name": "type",
         "rawType": "object",
         "type": "string"
        },
        {
         "name": "timestamp",
         "rawType": "object",
         "type": "string"
        },
        {
         "name": "value",
         "rawType": "float64",
         "type": "float"
        }
       ],
       "ref": "22c39c56-2158-48a9-95ca-1a2c55d87bdf",
       "rows": [
        [
         "0",
         "T1",
         "B00013",
         "LOVE CORP CAR INC",
         "trips",
         "2015-01-01",
         "26.0"
        ],
        [
         "1",
         "T1",
         "B00013",
         "LOVE CORP CAR INC",
         "trips",
         "2015-01-02",
         "79.0"
        ],
        [
         "2",
         "T1",
         "B00013",
         "LOVE CORP CAR INC",
         "trips",
         "2015-01-03",
         "62.0"
        ],
        [
         "3",
         "T1",
         "B00013",
         "LOVE CORP CAR INC",
         "trips",
         "2015-01-04",
         "76.0"
        ],
        [
         "4",
         "T1",
         "B00013",
         "LOVE CORP CAR INC",
         "trips",
         "2015-01-05",
         "292.0"
        ],
        [
         "5",
         "T1",
         "B00013",
         "LOVE CORP CAR INC",
         "trips",
         "2015-01-06",
         "414.0"
        ],
        [
         "6",
         "T1",
         "B00013",
         "LOVE CORP CAR INC",
         "trips",
         "2015-01-07",
         "412.0"
        ],
        [
         "7",
         "T1",
         "B00013",
         "LOVE CORP CAR INC",
         "trips",
         "2015-01-08",
         "484.0"
        ],
        [
         "8",
         "T1",
         "B00013",
         "LOVE CORP CAR INC",
         "trips",
         "2015-01-09",
         "326.0"
        ],
        [
         "9",
         "T1",
         "B00013",
         "LOVE CORP CAR INC",
         "trips",
         "2015-01-10",
         "117.0"
        ],
        [
         "10",
         "T1",
         "B00013",
         "LOVE CORP CAR INC",
         "trips",
         "2015-01-11",
         "144.0"
        ],
        [
         "11",
         "T1",
         "B00013",
         "LOVE CORP CAR INC",
         "trips",
         "2015-01-12",
         "378.0"
        ],
        [
         "12",
         "T1",
         "B00013",
         "LOVE CORP CAR INC",
         "trips",
         "2015-01-13",
         "448.0"
        ],
        [
         "13",
         "T1",
         "B00013",
         "LOVE CORP CAR INC",
         "trips",
         "2015-01-14",
         "501.0"
        ],
        [
         "14",
         "T1",
         "B00013",
         "LOVE CORP CAR INC",
         "trips",
         "2015-01-15",
         "495.0"
        ],
        [
         "15",
         "T1",
         "B00013",
         "LOVE CORP CAR INC",
         "trips",
         "2015-01-16",
         "349.0"
        ],
        [
         "16",
         "T1",
         "B00013",
         "LOVE CORP CAR INC",
         "trips",
         "2015-01-17",
         "120.0"
        ],
        [
         "17",
         "T1",
         "B00013",
         "LOVE CORP CAR INC",
         "trips",
         "2015-01-18",
         "59.0"
        ],
        [
         "18",
         "T1",
         "B00013",
         "LOVE CORP CAR INC",
         "trips",
         "2015-01-19",
         "106.0"
        ],
        [
         "19",
         "T1",
         "B00013",
         "LOVE CORP CAR INC",
         "trips",
         "2015-01-20",
         "395.0"
        ],
        [
         "20",
         "T1",
         "B00013",
         "LOVE CORP CAR INC",
         "trips",
         "2015-01-21",
         "453.0"
        ],
        [
         "21",
         "T1",
         "B00013",
         "LOVE CORP CAR INC",
         "trips",
         "2015-01-22",
         "441.0"
        ],
        [
         "22",
         "T1",
         "B00013",
         "LOVE CORP CAR INC",
         "trips",
         "2015-01-23",
         "292.0"
        ],
        [
         "23",
         "T1",
         "B00013",
         "LOVE CORP CAR INC",
         "trips",
         "2015-01-24",
         "99.0"
        ],
        [
         "24",
         "T1",
         "B00013",
         "LOVE CORP CAR INC",
         "trips",
         "2015-01-25",
         "124.0"
        ],
        [
         "25",
         "T1",
         "B00013",
         "LOVE CORP CAR INC",
         "trips",
         "2015-01-26",
         "163.0"
        ],
        [
         "26",
         "T1",
         "B00013",
         "LOVE CORP CAR INC",
         "trips",
         "2015-01-27",
         "50.0"
        ],
        [
         "27",
         "T1",
         "B00013",
         "LOVE CORP CAR INC",
         "trips",
         "2015-01-28",
         "438.0"
        ],
        [
         "28",
         "T1",
         "B00013",
         "LOVE CORP CAR INC",
         "trips",
         "2015-01-29",
         "451.0"
        ],
        [
         "29",
         "T1",
         "B00013",
         "LOVE CORP CAR INC",
         "trips",
         "2015-01-30",
         "338.0"
        ],
        [
         "30",
         "T1",
         "B00013",
         "LOVE CORP CAR INC",
         "trips",
         "2015-01-31",
         "117.0"
        ],
        [
         "31",
         "T1",
         "B00013",
         "LOVE CORP CAR INC",
         "trips",
         "2015-02-01",
         "160.0"
        ],
        [
         "32",
         "T1",
         "B00013",
         "LOVE CORP CAR INC",
         "trips",
         "2015-02-02",
         "349.0"
        ],
        [
         "33",
         "T1",
         "B00013",
         "LOVE CORP CAR INC",
         "trips",
         "2015-02-03",
         "543.0"
        ],
        [
         "34",
         "T1",
         "B00013",
         "LOVE CORP CAR INC",
         "trips",
         "2015-02-04",
         "564.0"
        ],
        [
         "35",
         "T1",
         "B00013",
         "LOVE CORP CAR INC",
         "trips",
         "2015-02-05",
         "528.0"
        ],
        [
         "36",
         "T1",
         "B00013",
         "LOVE CORP CAR INC",
         "trips",
         "2015-02-06",
         "512.0"
        ],
        [
         "37",
         "T1",
         "B00013",
         "LOVE CORP CAR INC",
         "trips",
         "2015-02-07",
         "145.0"
        ],
        [
         "38",
         "T1",
         "B00013",
         "LOVE CORP CAR INC",
         "trips",
         "2015-02-08",
         "160.0"
        ],
        [
         "39",
         "T1",
         "B00013",
         "LOVE CORP CAR INC",
         "trips",
         "2015-02-09",
         "339.0"
        ],
        [
         "40",
         "T1",
         "B00013",
         "LOVE CORP CAR INC",
         "trips",
         "2015-02-10",
         "435.0"
        ],
        [
         "41",
         "T1",
         "B00013",
         "LOVE CORP CAR INC",
         "trips",
         "2015-02-11",
         "462.0"
        ],
        [
         "42",
         "T1",
         "B00013",
         "LOVE CORP CAR INC",
         "trips",
         "2015-02-12",
         "435.0"
        ],
        [
         "43",
         "T1",
         "B00013",
         "LOVE CORP CAR INC",
         "trips",
         "2015-02-13",
         "337.0"
        ],
        [
         "44",
         "T1",
         "B00013",
         "LOVE CORP CAR INC",
         "trips",
         "2015-02-14",
         "69.0"
        ],
        [
         "45",
         "T1",
         "B00013",
         "LOVE CORP CAR INC",
         "trips",
         "2015-02-15",
         "77.0"
        ],
        [
         "46",
         "T1",
         "B00013",
         "LOVE CORP CAR INC",
         "trips",
         "2015-02-16",
         "121.0"
        ],
        [
         "47",
         "T1",
         "B00013",
         "LOVE CORP CAR INC",
         "trips",
         "2015-02-17",
         "375.0"
        ],
        [
         "48",
         "T1",
         "B00013",
         "LOVE CORP CAR INC",
         "trips",
         "2015-02-18",
         "463.0"
        ],
        [
         "49",
         "T1",
         "B00013",
         "LOVE CORP CAR INC",
         "trips",
         "2015-02-19",
         "466.0"
        ]
       ],
       "shape": {
        "columns": 6,
        "rows": 42382
       }
      },
      "text/html": [
       "<div>\n",
       "<style scoped>\n",
       "    .dataframe tbody tr th:only-of-type {\n",
       "        vertical-align: middle;\n",
       "    }\n",
       "\n",
       "    .dataframe tbody tr th {\n",
       "        vertical-align: top;\n",
       "    }\n",
       "\n",
       "    .dataframe thead th {\n",
       "        text-align: right;\n",
       "    }\n",
       "</style>\n",
       "<table border=\"1\" class=\"dataframe\">\n",
       "  <thead>\n",
       "    <tr style=\"text-align: right;\">\n",
       "      <th></th>\n",
       "      <th>series_name</th>\n",
       "      <th>base_number</th>\n",
       "      <th>company_name</th>\n",
       "      <th>type</th>\n",
       "      <th>timestamp</th>\n",
       "      <th>value</th>\n",
       "    </tr>\n",
       "  </thead>\n",
       "  <tbody>\n",
       "    <tr>\n",
       "      <th>0</th>\n",
       "      <td>T1</td>\n",
       "      <td>B00013</td>\n",
       "      <td>LOVE CORP CAR INC</td>\n",
       "      <td>trips</td>\n",
       "      <td>2015-01-01</td>\n",
       "      <td>26.0</td>\n",
       "    </tr>\n",
       "    <tr>\n",
       "      <th>1</th>\n",
       "      <td>T1</td>\n",
       "      <td>B00013</td>\n",
       "      <td>LOVE CORP CAR INC</td>\n",
       "      <td>trips</td>\n",
       "      <td>2015-01-02</td>\n",
       "      <td>79.0</td>\n",
       "    </tr>\n",
       "    <tr>\n",
       "      <th>2</th>\n",
       "      <td>T1</td>\n",
       "      <td>B00013</td>\n",
       "      <td>LOVE CORP CAR INC</td>\n",
       "      <td>trips</td>\n",
       "      <td>2015-01-03</td>\n",
       "      <td>62.0</td>\n",
       "    </tr>\n",
       "    <tr>\n",
       "      <th>3</th>\n",
       "      <td>T1</td>\n",
       "      <td>B00013</td>\n",
       "      <td>LOVE CORP CAR INC</td>\n",
       "      <td>trips</td>\n",
       "      <td>2015-01-04</td>\n",
       "      <td>76.0</td>\n",
       "    </tr>\n",
       "    <tr>\n",
       "      <th>4</th>\n",
       "      <td>T1</td>\n",
       "      <td>B00013</td>\n",
       "      <td>LOVE CORP CAR INC</td>\n",
       "      <td>trips</td>\n",
       "      <td>2015-01-05</td>\n",
       "      <td>292.0</td>\n",
       "    </tr>\n",
       "    <tr>\n",
       "      <th>...</th>\n",
       "      <td>...</td>\n",
       "      <td>...</td>\n",
       "      <td>...</td>\n",
       "      <td>...</td>\n",
       "      <td>...</td>\n",
       "      <td>...</td>\n",
       "    </tr>\n",
       "    <tr>\n",
       "      <th>42377</th>\n",
       "      <td>T329</td>\n",
       "      <td>B01818</td>\n",
       "      <td>TA-TA TRANSPORTATION, INC.</td>\n",
       "      <td>vehicles</td>\n",
       "      <td>2015-08-05</td>\n",
       "      <td>2.0</td>\n",
       "    </tr>\n",
       "    <tr>\n",
       "      <th>42378</th>\n",
       "      <td>T329</td>\n",
       "      <td>B01818</td>\n",
       "      <td>TA-TA TRANSPORTATION, INC.</td>\n",
       "      <td>vehicles</td>\n",
       "      <td>2015-08-06</td>\n",
       "      <td>2.0</td>\n",
       "    </tr>\n",
       "    <tr>\n",
       "      <th>42379</th>\n",
       "      <td>T329</td>\n",
       "      <td>B01818</td>\n",
       "      <td>TA-TA TRANSPORTATION, INC.</td>\n",
       "      <td>vehicles</td>\n",
       "      <td>2015-08-07</td>\n",
       "      <td>1.0</td>\n",
       "    </tr>\n",
       "    <tr>\n",
       "      <th>42380</th>\n",
       "      <td>T329</td>\n",
       "      <td>B01818</td>\n",
       "      <td>TA-TA TRANSPORTATION, INC.</td>\n",
       "      <td>vehicles</td>\n",
       "      <td>2015-08-08</td>\n",
       "      <td>3.0</td>\n",
       "    </tr>\n",
       "    <tr>\n",
       "      <th>42381</th>\n",
       "      <td>T329</td>\n",
       "      <td>B01818</td>\n",
       "      <td>TA-TA TRANSPORTATION, INC.</td>\n",
       "      <td>vehicles</td>\n",
       "      <td>2015-08-09</td>\n",
       "      <td>2.0</td>\n",
       "    </tr>\n",
       "  </tbody>\n",
       "</table>\n",
       "<p>42382 rows × 6 columns</p>\n",
       "</div>"
      ],
      "text/plain": [
       "      series_name base_number                company_name      type  \\\n",
       "0              T1      B00013           LOVE CORP CAR INC     trips   \n",
       "1              T1      B00013           LOVE CORP CAR INC     trips   \n",
       "2              T1      B00013           LOVE CORP CAR INC     trips   \n",
       "3              T1      B00013           LOVE CORP CAR INC     trips   \n",
       "4              T1      B00013           LOVE CORP CAR INC     trips   \n",
       "...           ...         ...                         ...       ...   \n",
       "42377        T329      B01818  TA-TA TRANSPORTATION, INC.  vehicles   \n",
       "42378        T329      B01818  TA-TA TRANSPORTATION, INC.  vehicles   \n",
       "42379        T329      B01818  TA-TA TRANSPORTATION, INC.  vehicles   \n",
       "42380        T329      B01818  TA-TA TRANSPORTATION, INC.  vehicles   \n",
       "42381        T329      B01818  TA-TA TRANSPORTATION, INC.  vehicles   \n",
       "\n",
       "        timestamp  value  \n",
       "0      2015-01-01   26.0  \n",
       "1      2015-01-02   79.0  \n",
       "2      2015-01-03   62.0  \n",
       "3      2015-01-04   76.0  \n",
       "4      2015-01-05  292.0  \n",
       "...           ...    ...  \n",
       "42377  2015-08-05    2.0  \n",
       "42378  2015-08-06    2.0  \n",
       "42379  2015-08-07    1.0  \n",
       "42380  2015-08-08    3.0  \n",
       "42381  2015-08-09    2.0  \n",
       "\n",
       "[42382 rows x 6 columns]"
      ]
     },
     "execution_count": 6,
     "metadata": {},
     "output_type": "execute_result"
    }
   ],
   "source": [
    "df = pd.read_csv(\"vehicle_trips.csv\")\n",
    "df"
   ]
  },
  {
   "cell_type": "code",
   "execution_count": 7,
   "id": "2bc53f98",
   "metadata": {},
   "outputs": [
    {
     "name": "stdout",
     "output_type": "stream",
     "text": [
      "<class 'pandas.core.frame.DataFrame'>\n",
      "RangeIndex: 42382 entries, 0 to 42381\n",
      "Data columns (total 6 columns):\n",
      " #   Column        Non-Null Count  Dtype  \n",
      "---  ------        --------------  -----  \n",
      " 0   series_name   42382 non-null  object \n",
      " 1   base_number   42382 non-null  object \n",
      " 2   company_name  42382 non-null  object \n",
      " 3   type          42382 non-null  object \n",
      " 4   timestamp     42382 non-null  object \n",
      " 5   value         35108 non-null  float64\n",
      "dtypes: float64(1), object(5)\n",
      "memory usage: 1.9+ MB\n"
     ]
    }
   ],
   "source": [
    "df.info()"
   ]
  },
  {
   "cell_type": "code",
   "execution_count": null,
   "id": "68dc191b",
   "metadata": {},
   "outputs": [
    {
     "data": {
      "application/vnd.microsoft.datawrangler.viewer.v0+json": {
       "columns": [
        {
         "name": "index",
         "rawType": "object",
         "type": "string"
        },
        {
         "name": "0",
         "rawType": "int64",
         "type": "integer"
        }
       ],
       "ref": "91c00da5-a2ac-4639-bdd7-932f13fdfd8e",
       "rows": [
        [
         "series_name",
         "0"
        ],
        [
         "base_number",
         "0"
        ],
        [
         "company_name",
         "0"
        ],
        [
         "type",
         "0"
        ],
        [
         "timestamp",
         "0"
        ],
        [
         "value",
         "7274"
        ]
       ],
       "shape": {
        "columns": 1,
        "rows": 6
       }
      },
      "text/plain": [
       "series_name        0\n",
       "base_number        0\n",
       "company_name       0\n",
       "type               0\n",
       "timestamp          0\n",
       "value           7274\n",
       "dtype: int64"
      ]
     },
     "execution_count": 8,
     "metadata": {},
     "output_type": "execute_result"
    }
   ],
   "source": [
    "# find out the missing values\n",
    "df.isnull().sum()"
   ]
  },
  {
   "cell_type": "code",
   "execution_count": 9,
   "id": "974f423f",
   "metadata": {},
   "outputs": [
    {
     "data": {
      "application/vnd.microsoft.datawrangler.viewer.v0+json": {
       "columns": [
        {
         "name": "index",
         "rawType": "object",
         "type": "string"
        },
        {
         "name": "0",
         "rawType": "bool",
         "type": "boolean"
        }
       ],
       "ref": "a8a4ddfb-4e89-445e-b697-6a3839495dc5",
       "rows": [
        [
         "series_name",
         "False"
        ],
        [
         "base_number",
         "False"
        ],
        [
         "company_name",
         "False"
        ],
        [
         "type",
         "False"
        ],
        [
         "timestamp",
         "False"
        ],
        [
         "value",
         "True"
        ]
       ],
       "shape": {
        "columns": 1,
        "rows": 6
       }
      },
      "text/plain": [
       "series_name     False\n",
       "base_number     False\n",
       "company_name    False\n",
       "type            False\n",
       "timestamp       False\n",
       "value            True\n",
       "dtype: bool"
      ]
     },
     "execution_count": 9,
     "metadata": {},
     "output_type": "execute_result"
    }
   ],
   "source": [
    "# alternative to find the missing values\n",
    "\n",
    "df.isnull().any(axis=0)"
   ]
  },
  {
   "cell_type": "code",
   "execution_count": 11,
   "id": "92a00388",
   "metadata": {},
   "outputs": [
    {
     "data": {
      "application/vnd.microsoft.datawrangler.viewer.v0+json": {
       "columns": [
        {
         "name": "index",
         "rawType": "object",
         "type": "string"
        },
        {
         "name": "0",
         "rawType": "int64",
         "type": "integer"
        }
       ],
       "ref": "1cde244c-7b2a-4a80-b4ac-0e7ad7134e4c",
       "rows": [
        [
         "series_name",
         "0"
        ],
        [
         "base_number",
         "0"
        ],
        [
         "company_name",
         "0"
        ],
        [
         "type",
         "0"
        ],
        [
         "timestamp",
         "0"
        ],
        [
         "value",
         "7274"
        ]
       ],
       "shape": {
        "columns": 1,
        "rows": 6
       }
      },
      "text/plain": [
       "series_name        0\n",
       "base_number        0\n",
       "company_name       0\n",
       "type               0\n",
       "timestamp          0\n",
       "value           7274\n",
       "dtype: int64"
      ]
     },
     "execution_count": 11,
     "metadata": {},
     "output_type": "execute_result"
    }
   ],
   "source": [
    "df.fillna(0)\n",
    "df.isnull().sum()"
   ]
  },
  {
   "cell_type": "code",
   "execution_count": 14,
   "id": "5d966cd3",
   "metadata": {},
   "outputs": [
    {
     "data": {
      "application/vnd.microsoft.datawrangler.viewer.v0+json": {
       "columns": [
        {
         "name": "index",
         "rawType": "object",
         "type": "string"
        },
        {
         "name": "0",
         "rawType": "int64",
         "type": "integer"
        }
       ],
       "ref": "8931b099-fe28-4875-8167-1b482508642d",
       "rows": [
        [
         "series_name",
         "0"
        ],
        [
         "base_number",
         "0"
        ],
        [
         "company_name",
         "0"
        ],
        [
         "type",
         "0"
        ],
        [
         "timestamp",
         "0"
        ],
        [
         "value",
         "0"
        ]
       ],
       "shape": {
        "columns": 1,
        "rows": 6
       }
      },
      "text/plain": [
       "series_name     0\n",
       "base_number     0\n",
       "company_name    0\n",
       "type            0\n",
       "timestamp       0\n",
       "value           0\n",
       "dtype: int64"
      ]
     },
     "execution_count": 14,
     "metadata": {},
     "output_type": "execute_result"
    }
   ],
   "source": [
    "# Imputation via mean\n",
    "\n",
    "df['value'] = df[\"value\"].fillna(df['value']).mean()\n",
    "df.isnull().sum()"
   ]
  },
  {
   "cell_type": "code",
   "execution_count": 15,
   "id": "85afe15b",
   "metadata": {},
   "outputs": [
    {
     "data": {
      "application/vnd.microsoft.datawrangler.viewer.v0+json": {
       "columns": [
        {
         "name": "index",
         "rawType": "object",
         "type": "string"
        },
        {
         "name": "0",
         "rawType": "object",
         "type": "unknown"
        }
       ],
       "ref": "10b5831e-55da-43d4-bdb2-ed5205e21819",
       "rows": [
        [
         "series_name",
         "object"
        ],
        [
         "base_number",
         "object"
        ],
        [
         "company_name",
         "object"
        ],
        [
         "type",
         "object"
        ],
        [
         "timestamp",
         "object"
        ],
        [
         "value",
         "float64"
        ]
       ],
       "shape": {
        "columns": 1,
        "rows": 6
       }
      },
      "text/plain": [
       "series_name      object\n",
       "base_number      object\n",
       "company_name     object\n",
       "type             object\n",
       "timestamp        object\n",
       "value           float64\n",
       "dtype: object"
      ]
     },
     "execution_count": 15,
     "metadata": {},
     "output_type": "execute_result"
    }
   ],
   "source": [
    "df.dtypes"
   ]
  },
  {
   "cell_type": "code",
   "execution_count": 17,
   "id": "f3896edf",
   "metadata": {},
   "outputs": [
    {
     "data": {
      "text/plain": [
       "Index(['series_name', 'base_number', 'company', 'type', 'timestamp', 'value'], dtype='object')"
      ]
     },
     "execution_count": 17,
     "metadata": {},
     "output_type": "execute_result"
    }
   ],
   "source": [
    "# Renaming columns\n",
    "\n",
    "df = df.rename(columns={'company_name':'company'})\n",
    "df.columns"
   ]
  },
  {
   "cell_type": "code",
   "execution_count": 18,
   "id": "e86a966b",
   "metadata": {},
   "outputs": [],
   "source": [
    "## change datatypes\n",
    "\n",
    "df['value'] = df['value'].astype(\"float\")"
   ]
  },
  {
   "cell_type": "code",
   "execution_count": 21,
   "id": "888797d0",
   "metadata": {},
   "outputs": [
    {
     "data": {
      "application/vnd.microsoft.datawrangler.viewer.v0+json": {
       "columns": [
        {
         "name": "type",
         "rawType": "object",
         "type": "string"
        },
        {
         "name": "value",
         "rawType": "float64",
         "type": "float"
        }
       ],
       "ref": "794780c4-7b6d-4118-9d8a-d7ae43c39acd",
       "rows": [
        [
         "trips",
         "105.83513729064602"
        ],
        [
         "vehicles",
         "105.83513729064602"
        ]
       ],
       "shape": {
        "columns": 1,
        "rows": 2
       }
      },
      "text/plain": [
       "type\n",
       "trips       105.835137\n",
       "vehicles    105.835137\n",
       "Name: value, dtype: float64"
      ]
     },
     "execution_count": 21,
     "metadata": {},
     "output_type": "execute_result"
    }
   ],
   "source": [
    "# Data aggregating and grouping\n",
    "\n",
    "grouped_mean = df.groupby(\"type\")['value'].mean()\n",
    "grouped_mean"
   ]
  },
  {
   "cell_type": "code",
   "execution_count": 22,
   "id": "2770a4f5",
   "metadata": {},
   "outputs": [
    {
     "data": {
      "application/vnd.microsoft.datawrangler.viewer.v0+json": {
       "columns": [
        {
         "name": "('company', 'type')",
         "rawType": "object",
         "type": "unknown"
        },
        {
         "name": "value",
         "rawType": "float64",
         "type": "float"
        }
       ],
       "ref": "7228d4d8-841d-428d-beca-87a170724efc",
       "rows": [
        [
         "('1431 CAR SERVICE, INC.', 'trips')",
         "12911.886749458814"
        ],
        [
         "('1431 CAR SERVICE, INC.', 'vehicles')",
         "12911.886749458814"
        ],
        [
         "('510 CAR SERVICE CORP', 'trips')",
         "22331.21396832631"
        ],
        [
         "('510 CAR SERVICE CORP', 'vehicles')",
         "22437.049105616956"
        ],
        [
         "('77 EXPRESS CAR & LIMO SERVICE, INC.', 'trips')",
         "12911.886749458814"
        ],
        [
         "('77 EXPRESS CAR & LIMO SERVICE, INC.', 'vehicles')",
         "12911.886749458814"
        ],
        [
         "('810 CAR SVCE CORP', 'trips')",
         "12911.886749458814"
        ],
        [
         "('810 CAR SVCE CORP', 'vehicles')",
         "16192.77600546884"
        ],
        [
         "('ABA LUXURY CAR INC.', 'trips')",
         "12911.886749458814"
        ],
        [
         "('ABA LUXURY CAR INC.', 'vehicles')",
         "12911.886749458814"
        ],
        [
         "('ACCUELIMO LUXURY LLC', 'trips')",
         "9630.997493448787"
        ],
        [
         "('ACCUELIMO LUXURY LLC', 'vehicles')",
         "9630.997493448787"
        ],
        [
         "('ACE C/L SVCE INC', 'trips')",
         "16192.77600546884"
        ],
        [
         "('ACE C/L SVCE INC', 'vehicles')",
         "16192.77600546884"
        ],
        [
         "('ALEX EXP C/L INC', 'trips')",
         "12911.886749458814"
        ],
        [
         "('ALL CITY CORP TRANS INC', 'trips')",
         "16192.77600546884"
        ],
        [
         "('ALL CITY CORP TRANS INC', 'vehicles')",
         "16192.77600546884"
        ],
        [
         "('ALLSTATE PRIVATE CAR & LIMO,INC', 'trips')",
         "22437.049105616956"
        ],
        [
         "('ALLSTATE PRIVATE CAR & LIMO,INC', 'vehicles')",
         "22437.049105616956"
        ],
        [
         "('AMERICAN DREAM CAR SERVICE INC.', 'trips')",
         "9419.327218867496"
        ],
        [
         "('AMERICANA TRANSPORTATION LLC', 'trips')",
         "12911.886749458814"
        ],
        [
         "('AMERICANA TRANSPORTATION LLC', 'vehicles')",
         "12911.886749458814"
        ],
        [
         "('ANIMO, INC', 'trips')",
         "12911.886749458814"
        ],
        [
         "('ANIMO, INC', 'vehicles')",
         "12911.886749458814"
        ],
        [
         "('APEX CAR & LIMO SVCE INC', 'trips')",
         "12911.886749458814"
        ],
        [
         "('APEX CAR & LIMO SVCE INC', 'vehicles')",
         "12911.886749458814"
        ],
        [
         "('ARISTACAR & LIMOUSINE, LTD.', 'trips')",
         "12911.886749458814"
        ],
        [
         "('ARISTACAR & LIMOUSINE, LTD.', 'vehicles')",
         "12911.886749458814"
        ],
        [
         "(\"ART'S PLACE INC.\", 'trips')",
         "9736.832630739433"
        ],
        [
         "(\"ART'S PLACE INC.\", 'vehicles')",
         "9736.832630739433"
        ],
        [
         "('ASIANA LIMOUSINE INC.', 'trips')",
         "12911.886749458814"
        ],
        [
         "('ASIANA LIMOUSINE INC.', 'vehicles')",
         "12911.886749458814"
        ],
        [
         "('AVALON CORPORATE CAR,INC.', 'trips')",
         "22437.049105616956"
        ],
        [
         "('AVALON CORPORATE CAR,INC.', 'vehicles')",
         "22437.049105616956"
        ],
        [
         "('AVALON TRANSPORTATION, LLC', 'trips')",
         "9736.832630739433"
        ],
        [
         "('AVALON TRANSPORTATION, LLC', 'vehicles')",
         "9736.832630739433"
        ],
        [
         "('BAILEY LUXURY & LIMOUSINE CORP.', 'trips')",
         "9101.821806995558"
        ],
        [
         "('BAILEY LUXURY & LIMOUSINE CORP.', 'vehicles')",
         "9101.821806995558"
        ],
        [
         "('BANGLA CAR & LIMO. SERVICE INC.', 'trips')",
         "15769.435456306257"
        ],
        [
         "('BANGLA CAR & LIMO. SERVICE INC.', 'vehicles')",
         "15769.435456306257"
        ],
        [
         "('BELL RADIO INC', 'trips')",
         "22437.049105616956"
        ],
        [
         "('BELL RADIO INC', 'vehicles')",
         "22437.049105616956"
        ],
        [
         "('BIG APPLE CAR INC', 'trips')",
         "9736.832630739433"
        ],
        [
         "('BIG APPLE CAR INC', 'vehicles')",
         "9736.832630739433"
        ],
        [
         "('BROOKLYN RAD DISP INC', 'trips')",
         "9419.327218867496"
        ],
        [
         "('BROOKLYN RAD DISP INC', 'vehicles')",
         "9525.162356158142"
        ],
        [
         "('BRUNWISH ENTERPRISES,LTD.', 'trips')",
         "14922.754357981088"
        ],
        [
         "('BRUNWISH ENTERPRISES,LTD.', 'vehicles')",
         "14922.754357981088"
        ],
        [
         "('CALL THREES LLC', 'trips')",
         "12911.886749458814"
        ],
        [
         "('CALL THREES LLC', 'vehicles')",
         "12911.886749458814"
        ]
       ],
       "shape": {
        "columns": 1,
        "rows": 329
       }
      },
      "text/plain": [
       "company                              type    \n",
       "1431 CAR SERVICE, INC.               trips       12911.886749\n",
       "                                     vehicles    12911.886749\n",
       "510 CAR SERVICE CORP                 trips       22331.213968\n",
       "                                     vehicles    22437.049106\n",
       "77 EXPRESS CAR & LIMO SERVICE, INC.  trips       12911.886749\n",
       "                                                     ...     \n",
       "WATSON CAR SERVICE INC.              vehicles    15981.105731\n",
       "XYZ TWO WAY RADIO                    trips       19050.324712\n",
       "                                     vehicles    19156.159850\n",
       "YELLOWSTONE TRANSPORTATION INC.      trips       18944.489575\n",
       "                                     vehicles    19156.159850\n",
       "Name: value, Length: 329, dtype: float64"
      ]
     },
     "execution_count": 22,
     "metadata": {},
     "output_type": "execute_result"
    }
   ],
   "source": [
    "df.groupby(['company', 'type'])['value'].sum()"
   ]
  },
  {
   "cell_type": "code",
   "execution_count": 26,
   "id": "335099c0",
   "metadata": {},
   "outputs": [
    {
     "data": {
      "application/vnd.microsoft.datawrangler.viewer.v0+json": {
       "columns": [
        {
         "name": "('company', 'type')",
         "rawType": "object",
         "type": "unknown"
        },
        {
         "name": "sum",
         "rawType": "float64",
         "type": "float"
        },
        {
         "name": "mean",
         "rawType": "float64",
         "type": "float"
        },
        {
         "name": "count",
         "rawType": "int64",
         "type": "integer"
        }
       ],
       "ref": "8d2f0910-ba88-4b5c-8bc9-b0f59e181882",
       "rows": [
        [
         "('1431 CAR SERVICE, INC.', 'trips')",
         "12911.886749458814",
         "105.83513729064602",
         "122"
        ],
        [
         "('1431 CAR SERVICE, INC.', 'vehicles')",
         "12911.886749458814",
         "105.83513729064602",
         "122"
        ],
        [
         "('510 CAR SERVICE CORP', 'trips')",
         "22331.21396832631",
         "105.83513729064602",
         "211"
        ],
        [
         "('510 CAR SERVICE CORP', 'vehicles')",
         "22437.049105616956",
         "105.83513729064602",
         "212"
        ],
        [
         "('77 EXPRESS CAR & LIMO SERVICE, INC.', 'trips')",
         "12911.886749458814",
         "105.83513729064602",
         "122"
        ],
        [
         "('77 EXPRESS CAR & LIMO SERVICE, INC.', 'vehicles')",
         "12911.886749458814",
         "105.83513729064602",
         "122"
        ],
        [
         "('810 CAR SVCE CORP', 'trips')",
         "12911.886749458814",
         "105.83513729064602",
         "122"
        ],
        [
         "('810 CAR SVCE CORP', 'vehicles')",
         "16192.77600546884",
         "105.83513729064602",
         "153"
        ],
        [
         "('ABA LUXURY CAR INC.', 'trips')",
         "12911.886749458814",
         "105.83513729064602",
         "122"
        ],
        [
         "('ABA LUXURY CAR INC.', 'vehicles')",
         "12911.886749458814",
         "105.83513729064602",
         "122"
        ],
        [
         "('ACCUELIMO LUXURY LLC', 'trips')",
         "9630.997493448787",
         "105.83513729064602",
         "91"
        ],
        [
         "('ACCUELIMO LUXURY LLC', 'vehicles')",
         "9630.997493448787",
         "105.83513729064602",
         "91"
        ],
        [
         "('ACE C/L SVCE INC', 'trips')",
         "16192.77600546884",
         "105.83513729064602",
         "153"
        ],
        [
         "('ACE C/L SVCE INC', 'vehicles')",
         "16192.77600546884",
         "105.83513729064602",
         "153"
        ],
        [
         "('ALEX EXP C/L INC', 'trips')",
         "12911.886749458814",
         "105.83513729064602",
         "122"
        ],
        [
         "('ALL CITY CORP TRANS INC', 'trips')",
         "16192.77600546884",
         "105.83513729064602",
         "153"
        ],
        [
         "('ALL CITY CORP TRANS INC', 'vehicles')",
         "16192.77600546884",
         "105.83513729064602",
         "153"
        ],
        [
         "('ALLSTATE PRIVATE CAR & LIMO,INC', 'trips')",
         "22437.049105616956",
         "105.83513729064602",
         "212"
        ],
        [
         "('ALLSTATE PRIVATE CAR & LIMO,INC', 'vehicles')",
         "22437.049105616956",
         "105.83513729064602",
         "212"
        ],
        [
         "('AMERICAN DREAM CAR SERVICE INC.', 'trips')",
         "9419.327218867496",
         "105.83513729064603",
         "89"
        ],
        [
         "('AMERICANA TRANSPORTATION LLC', 'trips')",
         "12911.886749458814",
         "105.83513729064602",
         "122"
        ],
        [
         "('AMERICANA TRANSPORTATION LLC', 'vehicles')",
         "12911.886749458814",
         "105.83513729064602",
         "122"
        ],
        [
         "('ANIMO, INC', 'trips')",
         "12911.886749458814",
         "105.83513729064602",
         "122"
        ],
        [
         "('ANIMO, INC', 'vehicles')",
         "12911.886749458814",
         "105.83513729064602",
         "122"
        ],
        [
         "('APEX CAR & LIMO SVCE INC', 'trips')",
         "12911.886749458814",
         "105.83513729064602",
         "122"
        ],
        [
         "('APEX CAR & LIMO SVCE INC', 'vehicles')",
         "12911.886749458814",
         "105.83513729064602",
         "122"
        ],
        [
         "('ARISTACAR & LIMOUSINE, LTD.', 'trips')",
         "12911.886749458814",
         "105.83513729064602",
         "122"
        ],
        [
         "('ARISTACAR & LIMOUSINE, LTD.', 'vehicles')",
         "12911.886749458814",
         "105.83513729064602",
         "122"
        ],
        [
         "(\"ART'S PLACE INC.\", 'trips')",
         "9736.832630739433",
         "105.835137290646",
         "92"
        ],
        [
         "(\"ART'S PLACE INC.\", 'vehicles')",
         "9736.832630739433",
         "105.835137290646",
         "92"
        ],
        [
         "('ASIANA LIMOUSINE INC.', 'trips')",
         "12911.886749458814",
         "105.83513729064602",
         "122"
        ],
        [
         "('ASIANA LIMOUSINE INC.', 'vehicles')",
         "12911.886749458814",
         "105.83513729064602",
         "122"
        ],
        [
         "('AVALON CORPORATE CAR,INC.', 'trips')",
         "22437.049105616956",
         "105.83513729064602",
         "212"
        ],
        [
         "('AVALON CORPORATE CAR,INC.', 'vehicles')",
         "22437.049105616956",
         "105.83513729064602",
         "212"
        ],
        [
         "('AVALON TRANSPORTATION, LLC', 'trips')",
         "9736.832630739433",
         "105.835137290646",
         "92"
        ],
        [
         "('AVALON TRANSPORTATION, LLC', 'vehicles')",
         "9736.832630739433",
         "105.835137290646",
         "92"
        ],
        [
         "('BAILEY LUXURY & LIMOUSINE CORP.', 'trips')",
         "9101.821806995558",
         "105.83513729064603",
         "86"
        ],
        [
         "('BAILEY LUXURY & LIMOUSINE CORP.', 'vehicles')",
         "9101.821806995558",
         "105.83513729064603",
         "86"
        ],
        [
         "('BANGLA CAR & LIMO. SERVICE INC.', 'trips')",
         "15769.435456306257",
         "105.83513729064602",
         "149"
        ],
        [
         "('BANGLA CAR & LIMO. SERVICE INC.', 'vehicles')",
         "15769.435456306257",
         "105.83513729064602",
         "149"
        ],
        [
         "('BELL RADIO INC', 'trips')",
         "22437.049105616956",
         "105.83513729064602",
         "212"
        ],
        [
         "('BELL RADIO INC', 'vehicles')",
         "22437.049105616956",
         "105.83513729064602",
         "212"
        ],
        [
         "('BIG APPLE CAR INC', 'trips')",
         "9736.832630739433",
         "105.835137290646",
         "92"
        ],
        [
         "('BIG APPLE CAR INC', 'vehicles')",
         "9736.832630739433",
         "105.835137290646",
         "92"
        ],
        [
         "('BROOKLYN RAD DISP INC', 'trips')",
         "9419.327218867496",
         "105.83513729064603",
         "89"
        ],
        [
         "('BROOKLYN RAD DISP INC', 'vehicles')",
         "9525.162356158142",
         "105.83513729064602",
         "90"
        ],
        [
         "('BRUNWISH ENTERPRISES,LTD.', 'trips')",
         "14922.754357981088",
         "105.83513729064602",
         "141"
        ],
        [
         "('BRUNWISH ENTERPRISES,LTD.', 'vehicles')",
         "14922.754357981088",
         "105.83513729064602",
         "141"
        ],
        [
         "('CALL THREES LLC', 'trips')",
         "12911.886749458814",
         "105.83513729064602",
         "122"
        ],
        [
         "('CALL THREES LLC', 'vehicles')",
         "12911.886749458814",
         "105.83513729064602",
         "122"
        ]
       ],
       "shape": {
        "columns": 3,
        "rows": 329
       }
      },
      "text/html": [
       "<div>\n",
       "<style scoped>\n",
       "    .dataframe tbody tr th:only-of-type {\n",
       "        vertical-align: middle;\n",
       "    }\n",
       "\n",
       "    .dataframe tbody tr th {\n",
       "        vertical-align: top;\n",
       "    }\n",
       "\n",
       "    .dataframe thead th {\n",
       "        text-align: right;\n",
       "    }\n",
       "</style>\n",
       "<table border=\"1\" class=\"dataframe\">\n",
       "  <thead>\n",
       "    <tr style=\"text-align: right;\">\n",
       "      <th></th>\n",
       "      <th></th>\n",
       "      <th>sum</th>\n",
       "      <th>mean</th>\n",
       "      <th>count</th>\n",
       "    </tr>\n",
       "    <tr>\n",
       "      <th>company</th>\n",
       "      <th>type</th>\n",
       "      <th></th>\n",
       "      <th></th>\n",
       "      <th></th>\n",
       "    </tr>\n",
       "  </thead>\n",
       "  <tbody>\n",
       "    <tr>\n",
       "      <th rowspan=\"2\" valign=\"top\">1431 CAR SERVICE, INC.</th>\n",
       "      <th>trips</th>\n",
       "      <td>12911.886749</td>\n",
       "      <td>105.835137</td>\n",
       "      <td>122</td>\n",
       "    </tr>\n",
       "    <tr>\n",
       "      <th>vehicles</th>\n",
       "      <td>12911.886749</td>\n",
       "      <td>105.835137</td>\n",
       "      <td>122</td>\n",
       "    </tr>\n",
       "    <tr>\n",
       "      <th rowspan=\"2\" valign=\"top\">510 CAR SERVICE CORP</th>\n",
       "      <th>trips</th>\n",
       "      <td>22331.213968</td>\n",
       "      <td>105.835137</td>\n",
       "      <td>211</td>\n",
       "    </tr>\n",
       "    <tr>\n",
       "      <th>vehicles</th>\n",
       "      <td>22437.049106</td>\n",
       "      <td>105.835137</td>\n",
       "      <td>212</td>\n",
       "    </tr>\n",
       "    <tr>\n",
       "      <th>77 EXPRESS CAR &amp; LIMO SERVICE, INC.</th>\n",
       "      <th>trips</th>\n",
       "      <td>12911.886749</td>\n",
       "      <td>105.835137</td>\n",
       "      <td>122</td>\n",
       "    </tr>\n",
       "    <tr>\n",
       "      <th>...</th>\n",
       "      <th>...</th>\n",
       "      <td>...</td>\n",
       "      <td>...</td>\n",
       "      <td>...</td>\n",
       "    </tr>\n",
       "    <tr>\n",
       "      <th>WATSON CAR SERVICE INC.</th>\n",
       "      <th>vehicles</th>\n",
       "      <td>15981.105731</td>\n",
       "      <td>105.835137</td>\n",
       "      <td>151</td>\n",
       "    </tr>\n",
       "    <tr>\n",
       "      <th rowspan=\"2\" valign=\"top\">XYZ TWO WAY RADIO</th>\n",
       "      <th>trips</th>\n",
       "      <td>19050.324712</td>\n",
       "      <td>105.835137</td>\n",
       "      <td>180</td>\n",
       "    </tr>\n",
       "    <tr>\n",
       "      <th>vehicles</th>\n",
       "      <td>19156.159850</td>\n",
       "      <td>105.835137</td>\n",
       "      <td>181</td>\n",
       "    </tr>\n",
       "    <tr>\n",
       "      <th rowspan=\"2\" valign=\"top\">YELLOWSTONE TRANSPORTATION INC.</th>\n",
       "      <th>trips</th>\n",
       "      <td>18944.489575</td>\n",
       "      <td>105.835137</td>\n",
       "      <td>179</td>\n",
       "    </tr>\n",
       "    <tr>\n",
       "      <th>vehicles</th>\n",
       "      <td>19156.159850</td>\n",
       "      <td>105.835137</td>\n",
       "      <td>181</td>\n",
       "    </tr>\n",
       "  </tbody>\n",
       "</table>\n",
       "<p>329 rows × 3 columns</p>\n",
       "</div>"
      ],
      "text/plain": [
       "                                                       sum        mean  count\n",
       "company                             type                                     \n",
       "1431 CAR SERVICE, INC.              trips     12911.886749  105.835137    122\n",
       "                                    vehicles  12911.886749  105.835137    122\n",
       "510 CAR SERVICE CORP                trips     22331.213968  105.835137    211\n",
       "                                    vehicles  22437.049106  105.835137    212\n",
       "77 EXPRESS CAR & LIMO SERVICE, INC. trips     12911.886749  105.835137    122\n",
       "...                                                    ...         ...    ...\n",
       "WATSON CAR SERVICE INC.             vehicles  15981.105731  105.835137    151\n",
       "XYZ TWO WAY RADIO                   trips     19050.324712  105.835137    180\n",
       "                                    vehicles  19156.159850  105.835137    181\n",
       "YELLOWSTONE TRANSPORTATION INC.     trips     18944.489575  105.835137    179\n",
       "                                    vehicles  19156.159850  105.835137    181\n",
       "\n",
       "[329 rows x 3 columns]"
      ]
     },
     "execution_count": 26,
     "metadata": {},
     "output_type": "execute_result"
    }
   ],
   "source": [
    "## aggregate multiple functions\n",
    "group = df.groupby(['company', 'type'])['value'].agg(['sum', 'mean', 'count'])\n",
    "group"
   ]
  },
  {
   "cell_type": "code",
   "execution_count": 28,
   "id": "c0cea44b",
   "metadata": {},
   "outputs": [
    {
     "data": {
      "application/vnd.microsoft.datawrangler.viewer.v0+json": {
       "columns": [
        {
         "name": "index",
         "rawType": "int64",
         "type": "integer"
        },
        {
         "name": "key",
         "rawType": "object",
         "type": "string"
        },
        {
         "name": "Value1",
         "rawType": "int64",
         "type": "integer"
        }
       ],
       "ref": "cbff36ae-32c3-45a0-9468-8b63c0636201",
       "rows": [
        [
         "0",
         "A",
         "1"
        ],
        [
         "1",
         "B",
         "2"
        ],
        [
         "2",
         "C",
         "3"
        ]
       ],
       "shape": {
        "columns": 2,
        "rows": 3
       }
      },
      "text/html": [
       "<div>\n",
       "<style scoped>\n",
       "    .dataframe tbody tr th:only-of-type {\n",
       "        vertical-align: middle;\n",
       "    }\n",
       "\n",
       "    .dataframe tbody tr th {\n",
       "        vertical-align: top;\n",
       "    }\n",
       "\n",
       "    .dataframe thead th {\n",
       "        text-align: right;\n",
       "    }\n",
       "</style>\n",
       "<table border=\"1\" class=\"dataframe\">\n",
       "  <thead>\n",
       "    <tr style=\"text-align: right;\">\n",
       "      <th></th>\n",
       "      <th>key</th>\n",
       "      <th>Value1</th>\n",
       "    </tr>\n",
       "  </thead>\n",
       "  <tbody>\n",
       "    <tr>\n",
       "      <th>0</th>\n",
       "      <td>A</td>\n",
       "      <td>1</td>\n",
       "    </tr>\n",
       "    <tr>\n",
       "      <th>1</th>\n",
       "      <td>B</td>\n",
       "      <td>2</td>\n",
       "    </tr>\n",
       "    <tr>\n",
       "      <th>2</th>\n",
       "      <td>C</td>\n",
       "      <td>3</td>\n",
       "    </tr>\n",
       "  </tbody>\n",
       "</table>\n",
       "</div>"
      ],
      "text/plain": [
       "  key  Value1\n",
       "0   A       1\n",
       "1   B       2\n",
       "2   C       3"
      ]
     },
     "execution_count": 28,
     "metadata": {},
     "output_type": "execute_result"
    }
   ],
   "source": [
    "# Merging and joining Dataframes\n",
    "df1 = pd.DataFrame({'key':['A', 'B', 'C'], 'Value1': [1,2,3]})\n",
    "df2 = pd.DataFrame({'key':['A', 'B', 'D'], 'Value1': [4,5,6]})\n",
    "\n",
    "df1"
   ]
  },
  {
   "cell_type": "code",
   "execution_count": 29,
   "id": "4bc34419",
   "metadata": {},
   "outputs": [
    {
     "data": {
      "application/vnd.microsoft.datawrangler.viewer.v0+json": {
       "columns": [
        {
         "name": "index",
         "rawType": "int64",
         "type": "integer"
        },
        {
         "name": "key",
         "rawType": "object",
         "type": "string"
        },
        {
         "name": "Value1",
         "rawType": "int64",
         "type": "integer"
        }
       ],
       "ref": "aaa7d338-d5de-4d69-94bc-4874f60a8511",
       "rows": [
        [
         "0",
         "A",
         "4"
        ],
        [
         "1",
         "B",
         "5"
        ],
        [
         "2",
         "D",
         "6"
        ]
       ],
       "shape": {
        "columns": 2,
        "rows": 3
       }
      },
      "text/html": [
       "<div>\n",
       "<style scoped>\n",
       "    .dataframe tbody tr th:only-of-type {\n",
       "        vertical-align: middle;\n",
       "    }\n",
       "\n",
       "    .dataframe tbody tr th {\n",
       "        vertical-align: top;\n",
       "    }\n",
       "\n",
       "    .dataframe thead th {\n",
       "        text-align: right;\n",
       "    }\n",
       "</style>\n",
       "<table border=\"1\" class=\"dataframe\">\n",
       "  <thead>\n",
       "    <tr style=\"text-align: right;\">\n",
       "      <th></th>\n",
       "      <th>key</th>\n",
       "      <th>Value1</th>\n",
       "    </tr>\n",
       "  </thead>\n",
       "  <tbody>\n",
       "    <tr>\n",
       "      <th>0</th>\n",
       "      <td>A</td>\n",
       "      <td>4</td>\n",
       "    </tr>\n",
       "    <tr>\n",
       "      <th>1</th>\n",
       "      <td>B</td>\n",
       "      <td>5</td>\n",
       "    </tr>\n",
       "    <tr>\n",
       "      <th>2</th>\n",
       "      <td>D</td>\n",
       "      <td>6</td>\n",
       "    </tr>\n",
       "  </tbody>\n",
       "</table>\n",
       "</div>"
      ],
      "text/plain": [
       "  key  Value1\n",
       "0   A       4\n",
       "1   B       5\n",
       "2   D       6"
      ]
     },
     "execution_count": 29,
     "metadata": {},
     "output_type": "execute_result"
    }
   ],
   "source": [
    "df2"
   ]
  },
  {
   "cell_type": "code",
   "execution_count": 33,
   "id": "7c461d63",
   "metadata": {},
   "outputs": [
    {
     "data": {
      "application/vnd.microsoft.datawrangler.viewer.v0+json": {
       "columns": [
        {
         "name": "index",
         "rawType": "int64",
         "type": "integer"
        },
        {
         "name": "key",
         "rawType": "object",
         "type": "string"
        },
        {
         "name": "Value1_x",
         "rawType": "int64",
         "type": "integer"
        },
        {
         "name": "Value1_y",
         "rawType": "int64",
         "type": "integer"
        }
       ],
       "ref": "7de47322-65e0-4309-a1ce-4e5e5b274b5a",
       "rows": [
        [
         "0",
         "A",
         "1",
         "4"
        ],
        [
         "1",
         "B",
         "2",
         "5"
        ]
       ],
       "shape": {
        "columns": 3,
        "rows": 2
       }
      },
      "text/html": [
       "<div>\n",
       "<style scoped>\n",
       "    .dataframe tbody tr th:only-of-type {\n",
       "        vertical-align: middle;\n",
       "    }\n",
       "\n",
       "    .dataframe tbody tr th {\n",
       "        vertical-align: top;\n",
       "    }\n",
       "\n",
       "    .dataframe thead th {\n",
       "        text-align: right;\n",
       "    }\n",
       "</style>\n",
       "<table border=\"1\" class=\"dataframe\">\n",
       "  <thead>\n",
       "    <tr style=\"text-align: right;\">\n",
       "      <th></th>\n",
       "      <th>key</th>\n",
       "      <th>Value1_x</th>\n",
       "      <th>Value1_y</th>\n",
       "    </tr>\n",
       "  </thead>\n",
       "  <tbody>\n",
       "    <tr>\n",
       "      <th>0</th>\n",
       "      <td>A</td>\n",
       "      <td>1</td>\n",
       "      <td>4</td>\n",
       "    </tr>\n",
       "    <tr>\n",
       "      <th>1</th>\n",
       "      <td>B</td>\n",
       "      <td>2</td>\n",
       "      <td>5</td>\n",
       "    </tr>\n",
       "  </tbody>\n",
       "</table>\n",
       "</div>"
      ],
      "text/plain": [
       "  key  Value1_x  Value1_y\n",
       "0   A         1         4\n",
       "1   B         2         5"
      ]
     },
     "execution_count": 33,
     "metadata": {},
     "output_type": "execute_result"
    }
   ],
   "source": [
    "## Merge Dataframe on the 'key' column \n",
    "## inner join, outer join, left and right\n",
    "\n",
    "pd.merge(df1, df2, on=\"key\", how='inner')"
   ]
  },
  {
   "cell_type": "code",
   "execution_count": 34,
   "id": "e839cdb3",
   "metadata": {},
   "outputs": [
    {
     "data": {
      "application/vnd.microsoft.datawrangler.viewer.v0+json": {
       "columns": [
        {
         "name": "index",
         "rawType": "int64",
         "type": "integer"
        },
        {
         "name": "key",
         "rawType": "object",
         "type": "string"
        },
        {
         "name": "Value1_x",
         "rawType": "float64",
         "type": "float"
        },
        {
         "name": "Value1_y",
         "rawType": "float64",
         "type": "float"
        }
       ],
       "ref": "ce88f2de-8caa-4591-b099-067851aea7d4",
       "rows": [
        [
         "0",
         "A",
         "1.0",
         "4.0"
        ],
        [
         "1",
         "B",
         "2.0",
         "5.0"
        ],
        [
         "2",
         "C",
         "3.0",
         null
        ],
        [
         "3",
         "D",
         null,
         "6.0"
        ]
       ],
       "shape": {
        "columns": 3,
        "rows": 4
       }
      },
      "text/html": [
       "<div>\n",
       "<style scoped>\n",
       "    .dataframe tbody tr th:only-of-type {\n",
       "        vertical-align: middle;\n",
       "    }\n",
       "\n",
       "    .dataframe tbody tr th {\n",
       "        vertical-align: top;\n",
       "    }\n",
       "\n",
       "    .dataframe thead th {\n",
       "        text-align: right;\n",
       "    }\n",
       "</style>\n",
       "<table border=\"1\" class=\"dataframe\">\n",
       "  <thead>\n",
       "    <tr style=\"text-align: right;\">\n",
       "      <th></th>\n",
       "      <th>key</th>\n",
       "      <th>Value1_x</th>\n",
       "      <th>Value1_y</th>\n",
       "    </tr>\n",
       "  </thead>\n",
       "  <tbody>\n",
       "    <tr>\n",
       "      <th>0</th>\n",
       "      <td>A</td>\n",
       "      <td>1.0</td>\n",
       "      <td>4.0</td>\n",
       "    </tr>\n",
       "    <tr>\n",
       "      <th>1</th>\n",
       "      <td>B</td>\n",
       "      <td>2.0</td>\n",
       "      <td>5.0</td>\n",
       "    </tr>\n",
       "    <tr>\n",
       "      <th>2</th>\n",
       "      <td>C</td>\n",
       "      <td>3.0</td>\n",
       "      <td>NaN</td>\n",
       "    </tr>\n",
       "    <tr>\n",
       "      <th>3</th>\n",
       "      <td>D</td>\n",
       "      <td>NaN</td>\n",
       "      <td>6.0</td>\n",
       "    </tr>\n",
       "  </tbody>\n",
       "</table>\n",
       "</div>"
      ],
      "text/plain": [
       "  key  Value1_x  Value1_y\n",
       "0   A       1.0       4.0\n",
       "1   B       2.0       5.0\n",
       "2   C       3.0       NaN\n",
       "3   D       NaN       6.0"
      ]
     },
     "execution_count": 34,
     "metadata": {},
     "output_type": "execute_result"
    }
   ],
   "source": [
    "pd.merge(df1, df2, on=\"key\", how='outer')"
   ]
  },
  {
   "cell_type": "code",
   "execution_count": 35,
   "id": "60048839",
   "metadata": {},
   "outputs": [
    {
     "data": {
      "application/vnd.microsoft.datawrangler.viewer.v0+json": {
       "columns": [
        {
         "name": "index",
         "rawType": "int64",
         "type": "integer"
        },
        {
         "name": "key",
         "rawType": "object",
         "type": "string"
        },
        {
         "name": "Value1_x",
         "rawType": "int64",
         "type": "integer"
        },
        {
         "name": "Value1_y",
         "rawType": "float64",
         "type": "float"
        }
       ],
       "ref": "2d9058c3-1d36-47ed-b8bd-cc2ffc612e91",
       "rows": [
        [
         "0",
         "A",
         "1",
         "4.0"
        ],
        [
         "1",
         "B",
         "2",
         "5.0"
        ],
        [
         "2",
         "C",
         "3",
         null
        ]
       ],
       "shape": {
        "columns": 3,
        "rows": 3
       }
      },
      "text/html": [
       "<div>\n",
       "<style scoped>\n",
       "    .dataframe tbody tr th:only-of-type {\n",
       "        vertical-align: middle;\n",
       "    }\n",
       "\n",
       "    .dataframe tbody tr th {\n",
       "        vertical-align: top;\n",
       "    }\n",
       "\n",
       "    .dataframe thead th {\n",
       "        text-align: right;\n",
       "    }\n",
       "</style>\n",
       "<table border=\"1\" class=\"dataframe\">\n",
       "  <thead>\n",
       "    <tr style=\"text-align: right;\">\n",
       "      <th></th>\n",
       "      <th>key</th>\n",
       "      <th>Value1_x</th>\n",
       "      <th>Value1_y</th>\n",
       "    </tr>\n",
       "  </thead>\n",
       "  <tbody>\n",
       "    <tr>\n",
       "      <th>0</th>\n",
       "      <td>A</td>\n",
       "      <td>1</td>\n",
       "      <td>4.0</td>\n",
       "    </tr>\n",
       "    <tr>\n",
       "      <th>1</th>\n",
       "      <td>B</td>\n",
       "      <td>2</td>\n",
       "      <td>5.0</td>\n",
       "    </tr>\n",
       "    <tr>\n",
       "      <th>2</th>\n",
       "      <td>C</td>\n",
       "      <td>3</td>\n",
       "      <td>NaN</td>\n",
       "    </tr>\n",
       "  </tbody>\n",
       "</table>\n",
       "</div>"
      ],
      "text/plain": [
       "  key  Value1_x  Value1_y\n",
       "0   A         1       4.0\n",
       "1   B         2       5.0\n",
       "2   C         3       NaN"
      ]
     },
     "execution_count": 35,
     "metadata": {},
     "output_type": "execute_result"
    }
   ],
   "source": [
    "pd.merge(df1, df2, on=\"key\", how='left')"
   ]
  },
  {
   "cell_type": "code",
   "execution_count": 36,
   "id": "37205930",
   "metadata": {},
   "outputs": [
    {
     "data": {
      "application/vnd.microsoft.datawrangler.viewer.v0+json": {
       "columns": [
        {
         "name": "index",
         "rawType": "int64",
         "type": "integer"
        },
        {
         "name": "key",
         "rawType": "object",
         "type": "string"
        },
        {
         "name": "Value1_x",
         "rawType": "float64",
         "type": "float"
        },
        {
         "name": "Value1_y",
         "rawType": "int64",
         "type": "integer"
        }
       ],
       "ref": "914d703a-73df-4476-9722-a85b350aaa28",
       "rows": [
        [
         "0",
         "A",
         "1.0",
         "4"
        ],
        [
         "1",
         "B",
         "2.0",
         "5"
        ],
        [
         "2",
         "D",
         null,
         "6"
        ]
       ],
       "shape": {
        "columns": 3,
        "rows": 3
       }
      },
      "text/html": [
       "<div>\n",
       "<style scoped>\n",
       "    .dataframe tbody tr th:only-of-type {\n",
       "        vertical-align: middle;\n",
       "    }\n",
       "\n",
       "    .dataframe tbody tr th {\n",
       "        vertical-align: top;\n",
       "    }\n",
       "\n",
       "    .dataframe thead th {\n",
       "        text-align: right;\n",
       "    }\n",
       "</style>\n",
       "<table border=\"1\" class=\"dataframe\">\n",
       "  <thead>\n",
       "    <tr style=\"text-align: right;\">\n",
       "      <th></th>\n",
       "      <th>key</th>\n",
       "      <th>Value1_x</th>\n",
       "      <th>Value1_y</th>\n",
       "    </tr>\n",
       "  </thead>\n",
       "  <tbody>\n",
       "    <tr>\n",
       "      <th>0</th>\n",
       "      <td>A</td>\n",
       "      <td>1.0</td>\n",
       "      <td>4</td>\n",
       "    </tr>\n",
       "    <tr>\n",
       "      <th>1</th>\n",
       "      <td>B</td>\n",
       "      <td>2.0</td>\n",
       "      <td>5</td>\n",
       "    </tr>\n",
       "    <tr>\n",
       "      <th>2</th>\n",
       "      <td>D</td>\n",
       "      <td>NaN</td>\n",
       "      <td>6</td>\n",
       "    </tr>\n",
       "  </tbody>\n",
       "</table>\n",
       "</div>"
      ],
      "text/plain": [
       "  key  Value1_x  Value1_y\n",
       "0   A       1.0         4\n",
       "1   B       2.0         5\n",
       "2   D       NaN         6"
      ]
     },
     "execution_count": 36,
     "metadata": {},
     "output_type": "execute_result"
    }
   ],
   "source": [
    "pd.merge(df1, df2, on=\"key\", how='right')"
   ]
  }
 ],
 "metadata": {
  "kernelspec": {
   "display_name": "genenv",
   "language": "python",
   "name": "python3"
  },
  "language_info": {
   "codemirror_mode": {
    "name": "ipython",
    "version": 3
   },
   "file_extension": ".py",
   "mimetype": "text/x-python",
   "name": "python",
   "nbconvert_exporter": "python",
   "pygments_lexer": "ipython3",
   "version": "3.13.5"
  }
 },
 "nbformat": 4,
 "nbformat_minor": 5
}
